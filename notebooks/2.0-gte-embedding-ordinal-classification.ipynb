{
 "cells": [
  {
   "cell_type": "code",
   "execution_count": 1,
   "id": "83bc9e0b",
   "metadata": {
    "execution": {
     "iopub.execute_input": "2024-06-30T10:23:58.257627Z",
     "iopub.status.busy": "2024-06-30T10:23:58.257325Z",
     "iopub.status.idle": "2024-06-30T10:24:12.472554Z",
     "shell.execute_reply": "2024-06-30T10:24:12.471450Z"
    },
    "papermill": {
     "duration": 14.233556,
     "end_time": "2024-06-30T10:24:12.474889",
     "exception": false,
     "start_time": "2024-06-30T10:23:58.241333",
     "status": "completed"
    },
    "scrolled": true,
    "tags": []
   },
   "outputs": [
    {
     "name": "stdout",
     "output_type": "stream",
     "text": [
      "Looking in links: /kaggle/input/sentence-transformers/\r\n",
      "Processing /kaggle/input/sentence-transformers/sentence_transformers-2.7.0-py3-none-any.whl\r\n",
      "Requirement already satisfied: transformers<5.0.0,>=4.34.0 in /opt/conda/lib/python3.10/site-packages (from sentence-transformers) (4.41.1)\r\n",
      "Requirement already satisfied: tqdm in /opt/conda/lib/python3.10/site-packages (from sentence-transformers) (4.66.4)\r\n",
      "Requirement already satisfied: torch>=1.11.0 in /opt/conda/lib/python3.10/site-packages (from sentence-transformers) (2.1.2)\r\n",
      "Requirement already satisfied: numpy in /opt/conda/lib/python3.10/site-packages (from sentence-transformers) (1.26.4)\r\n",
      "Requirement already satisfied: scikit-learn in /opt/conda/lib/python3.10/site-packages (from sentence-transformers) (1.2.2)\r\n",
      "Requirement already satisfied: scipy in /opt/conda/lib/python3.10/site-packages (from sentence-transformers) (1.11.4)\r\n",
      "Requirement already satisfied: huggingface-hub>=0.15.1 in /opt/conda/lib/python3.10/site-packages (from sentence-transformers) (0.23.2)\r\n",
      "Requirement already satisfied: Pillow in /opt/conda/lib/python3.10/site-packages (from sentence-transformers) (9.5.0)\r\n",
      "Requirement already satisfied: filelock in /opt/conda/lib/python3.10/site-packages (from huggingface-hub>=0.15.1->sentence-transformers) (3.13.1)\r\n",
      "Requirement already satisfied: fsspec>=2023.5.0 in /opt/conda/lib/python3.10/site-packages (from huggingface-hub>=0.15.1->sentence-transformers) (2024.3.1)\r\n",
      "Requirement already satisfied: packaging>=20.9 in /opt/conda/lib/python3.10/site-packages (from huggingface-hub>=0.15.1->sentence-transformers) (21.3)\r\n",
      "Requirement already satisfied: pyyaml>=5.1 in /opt/conda/lib/python3.10/site-packages (from huggingface-hub>=0.15.1->sentence-transformers) (6.0.1)\r\n",
      "Requirement already satisfied: requests in /opt/conda/lib/python3.10/site-packages (from huggingface-hub>=0.15.1->sentence-transformers) (2.31.0)\r\n",
      "Requirement already satisfied: typing-extensions>=3.7.4.3 in /opt/conda/lib/python3.10/site-packages (from huggingface-hub>=0.15.1->sentence-transformers) (4.9.0)\r\n",
      "Requirement already satisfied: sympy in /opt/conda/lib/python3.10/site-packages (from torch>=1.11.0->sentence-transformers) (1.12)\r\n",
      "Requirement already satisfied: networkx in /opt/conda/lib/python3.10/site-packages (from torch>=1.11.0->sentence-transformers) (3.2.1)\r\n",
      "Requirement already satisfied: jinja2 in /opt/conda/lib/python3.10/site-packages (from torch>=1.11.0->sentence-transformers) (3.1.2)\r\n",
      "Requirement already satisfied: regex!=2019.12.17 in /opt/conda/lib/python3.10/site-packages (from transformers<5.0.0,>=4.34.0->sentence-transformers) (2023.12.25)\r\n",
      "Requirement already satisfied: tokenizers<0.20,>=0.19 in /opt/conda/lib/python3.10/site-packages (from transformers<5.0.0,>=4.34.0->sentence-transformers) (0.19.1)\r\n",
      "Requirement already satisfied: safetensors>=0.4.1 in /opt/conda/lib/python3.10/site-packages (from transformers<5.0.0,>=4.34.0->sentence-transformers) (0.4.3)\r\n",
      "Requirement already satisfied: joblib>=1.1.1 in /opt/conda/lib/python3.10/site-packages (from scikit-learn->sentence-transformers) (1.4.2)\r\n",
      "Requirement already satisfied: threadpoolctl>=2.0.0 in /opt/conda/lib/python3.10/site-packages (from scikit-learn->sentence-transformers) (3.2.0)\r\n",
      "Requirement already satisfied: pyparsing!=3.0.5,>=2.0.2 in /opt/conda/lib/python3.10/site-packages (from packaging>=20.9->huggingface-hub>=0.15.1->sentence-transformers) (3.1.1)\r\n",
      "Requirement already satisfied: MarkupSafe>=2.0 in /opt/conda/lib/python3.10/site-packages (from jinja2->torch>=1.11.0->sentence-transformers) (2.1.3)\r\n",
      "Requirement already satisfied: charset-normalizer<4,>=2 in /opt/conda/lib/python3.10/site-packages (from requests->huggingface-hub>=0.15.1->sentence-transformers) (3.3.2)\r\n",
      "Requirement already satisfied: idna<4,>=2.5 in /opt/conda/lib/python3.10/site-packages (from requests->huggingface-hub>=0.15.1->sentence-transformers) (3.6)\r\n",
      "Requirement already satisfied: urllib3<3,>=1.21.1 in /opt/conda/lib/python3.10/site-packages (from requests->huggingface-hub>=0.15.1->sentence-transformers) (1.26.18)\r\n",
      "Requirement already satisfied: certifi>=2017.4.17 in /opt/conda/lib/python3.10/site-packages (from requests->huggingface-hub>=0.15.1->sentence-transformers) (2024.2.2)\r\n",
      "Requirement already satisfied: mpmath>=0.19 in /opt/conda/lib/python3.10/site-packages (from sympy->torch>=1.11.0->sentence-transformers) (1.3.0)\r\n",
      "\u001b[33mWARNING: Error parsing requirements for aiohttp: [Errno 2] No such file or directory: '/opt/conda/lib/python3.10/site-packages/aiohttp-3.9.1.dist-info/METADATA'\u001b[0m\u001b[33m\r\n",
      "\u001b[0mInstalling collected packages: sentence-transformers\r\n",
      "Successfully installed sentence-transformers-2.7.0\r\n"
     ]
    }
   ],
   "source": [
    "!pip install sentence-transformers --no-index --find-links /kaggle/input/sentence-transformers/"
   ]
  },
  {
   "cell_type": "code",
   "execution_count": 2,
   "id": "58afb1d5",
   "metadata": {
    "execution": {
     "iopub.execute_input": "2024-06-30T10:24:12.506147Z",
     "iopub.status.busy": "2024-06-30T10:24:12.505521Z",
     "iopub.status.idle": "2024-06-30T10:24:35.703434Z",
     "shell.execute_reply": "2024-06-30T10:24:35.702452Z"
    },
    "papermill": {
     "duration": 23.215967,
     "end_time": "2024-06-30T10:24:35.705868",
     "exception": false,
     "start_time": "2024-06-30T10:24:12.489901",
     "status": "completed"
    },
    "tags": []
   },
   "outputs": [
    {
     "name": "stderr",
     "output_type": "stream",
     "text": [
      "2024-06-30 10:24:14.920985: E external/local_xla/xla/stream_executor/cuda/cuda_dnn.cc:9261] Unable to register cuDNN factory: Attempting to register factory for plugin cuDNN when one has already been registered\n",
      "2024-06-30 10:24:14.921116: E external/local_xla/xla/stream_executor/cuda/cuda_fft.cc:607] Unable to register cuFFT factory: Attempting to register factory for plugin cuFFT when one has already been registered\n",
      "2024-06-30 10:24:15.087711: E external/local_xla/xla/stream_executor/cuda/cuda_blas.cc:1515] Unable to register cuBLAS factory: Attempting to register factory for plugin cuBLAS when one has already been registered\n"
     ]
    }
   ],
   "source": [
    "from keras.models import Sequential\n",
    "from keras.layers import Dense\n",
    "from keras.callbacks import EarlyStopping\n",
    "from keras.utils import to_categorical\n",
    "from sklearn.model_selection import train_test_split\n",
    "from sentence_transformers import SentenceTransformer\n",
    "from sklearn.metrics import cohen_kappa_score\n",
    "import numpy as np # linear algebra\n",
    "import pandas as pd # data processing, CSV file I/O (e.g. pd.read_csv)\n",
    "import matplotlib.pyplot as plt\n",
    "import seaborn as sns\n",
    "import keras_nlp\n",
    "import pickle\n",
    "import keras\n",
    "import time\n",
    "import gc\n",
    "import torch\n",
    "import tqdm\n",
    "import numpy as np\n",
    "import os\n",
    "os.environ[\"KERAS_BACKEND\"] = \"jax\" \n",
    "os.environ[\"XLA_PYTHON_CLIENT_PREALLOCATE\"]=\"False\""
   ]
  },
  {
   "cell_type": "code",
   "execution_count": 3,
   "id": "9c8c1565",
   "metadata": {
    "execution": {
     "iopub.execute_input": "2024-06-30T10:24:35.738838Z",
     "iopub.status.busy": "2024-06-30T10:24:35.738282Z",
     "iopub.status.idle": "2024-06-30T10:24:35.742818Z",
     "shell.execute_reply": "2024-06-30T10:24:35.742015Z"
    },
    "papermill": {
     "duration": 0.023359,
     "end_time": "2024-06-30T10:24:35.744849",
     "exception": false,
     "start_time": "2024-06-30T10:24:35.721490",
     "status": "completed"
    },
    "tags": []
   },
   "outputs": [],
   "source": [
    "BASE_PATH = os.getcwd()"
   ]
  },
  {
   "cell_type": "markdown",
   "id": "79dc1b93",
   "metadata": {
    "papermill": {
     "duration": 0.014443,
     "end_time": "2024-06-30T10:24:35.774060",
     "exception": false,
     "start_time": "2024-06-30T10:24:35.759617",
     "status": "completed"
    },
    "tags": []
   },
   "source": [
    "## 1.Exploratory Data Analysis"
   ]
  },
  {
   "cell_type": "markdown",
   "id": "79d75872",
   "metadata": {
    "papermill": {
     "duration": 0.015326,
     "end_time": "2024-06-30T10:24:35.805481",
     "exception": false,
     "start_time": "2024-06-30T10:24:35.790155",
     "status": "completed"
    },
    "tags": []
   },
   "source": [
    "## 1.1 Read the Data"
   ]
  },
  {
   "cell_type": "code",
   "execution_count": 4,
   "id": "5511169e",
   "metadata": {
    "execution": {
     "iopub.execute_input": "2024-06-30T10:24:35.836556Z",
     "iopub.status.busy": "2024-06-30T10:24:35.836286Z",
     "iopub.status.idle": "2024-06-30T10:24:36.577312Z",
     "shell.execute_reply": "2024-06-30T10:24:36.576328Z"
    },
    "papermill": {
     "duration": 0.75847,
     "end_time": "2024-06-30T10:24:36.579241",
     "exception": false,
     "start_time": "2024-06-30T10:24:35.820771",
     "status": "completed"
    },
    "tags": []
   },
   "outputs": [
    {
     "name": "stdout",
     "output_type": "stream",
     "text": [
      "We have about 17,307 essays\n"
     ]
    },
    {
     "data": {
      "text/html": [
       "<div>\n",
       "<style scoped>\n",
       "    .dataframe tbody tr th:only-of-type {\n",
       "        vertical-align: middle;\n",
       "    }\n",
       "\n",
       "    .dataframe tbody tr th {\n",
       "        vertical-align: top;\n",
       "    }\n",
       "\n",
       "    .dataframe thead th {\n",
       "        text-align: right;\n",
       "    }\n",
       "</style>\n",
       "<table border=\"1\" class=\"dataframe\">\n",
       "  <thead>\n",
       "    <tr style=\"text-align: right;\">\n",
       "      <th></th>\n",
       "      <th>essay_id</th>\n",
       "      <th>full_text</th>\n",
       "      <th>score</th>\n",
       "    </tr>\n",
       "  </thead>\n",
       "  <tbody>\n",
       "    <tr>\n",
       "      <th>0</th>\n",
       "      <td>000d118</td>\n",
       "      <td>Many people have car where they live. The thin...</td>\n",
       "      <td>3</td>\n",
       "    </tr>\n",
       "    <tr>\n",
       "      <th>1</th>\n",
       "      <td>000fe60</td>\n",
       "      <td>I am a scientist at NASA that is discussing th...</td>\n",
       "      <td>3</td>\n",
       "    </tr>\n",
       "    <tr>\n",
       "      <th>2</th>\n",
       "      <td>001ab80</td>\n",
       "      <td>People always wish they had the same technolog...</td>\n",
       "      <td>4</td>\n",
       "    </tr>\n",
       "    <tr>\n",
       "      <th>3</th>\n",
       "      <td>001bdc0</td>\n",
       "      <td>We all heard about Venus, the planet without a...</td>\n",
       "      <td>4</td>\n",
       "    </tr>\n",
       "    <tr>\n",
       "      <th>4</th>\n",
       "      <td>002ba53</td>\n",
       "      <td>Dear, State Senator\\n\\nThis is a letter to arg...</td>\n",
       "      <td>3</td>\n",
       "    </tr>\n",
       "  </tbody>\n",
       "</table>\n",
       "</div>"
      ],
      "text/plain": [
       "  essay_id                                          full_text  score\n",
       "0  000d118  Many people have car where they live. The thin...      3\n",
       "1  000fe60  I am a scientist at NASA that is discussing th...      3\n",
       "2  001ab80  People always wish they had the same technolog...      4\n",
       "3  001bdc0  We all heard about Venus, the planet without a...      4\n",
       "4  002ba53  Dear, State Senator\\n\\nThis is a letter to arg...      3"
      ]
     },
     "execution_count": 4,
     "metadata": {},
     "output_type": "execute_result"
    }
   ],
   "source": [
    "#read the data \n",
    "\n",
    "df_train = pd.read_csv(\"/kaggle/input/learning-agency-lab-automated-essay-scoring-2/train.csv\")\n",
    "print(f\"We have about {df_train.shape[0]:,} essays\")\n",
    "df_test = pd.read_csv(\"/kaggle/input/learning-agency-lab-automated-essay-scoring-2/test.csv\")\n",
    "df_train.head()"
   ]
  },
  {
   "cell_type": "markdown",
   "id": "342e02ed",
   "metadata": {
    "papermill": {
     "duration": 0.015175,
     "end_time": "2024-06-30T10:24:36.610521",
     "exception": false,
     "start_time": "2024-06-30T10:24:36.595346",
     "status": "completed"
    },
    "tags": []
   },
   "source": [
    "## 1.2 Devide the data"
   ]
  },
  {
   "cell_type": "code",
   "execution_count": 5,
   "id": "4317f40b",
   "metadata": {
    "execution": {
     "iopub.execute_input": "2024-06-30T10:24:36.642134Z",
     "iopub.status.busy": "2024-06-30T10:24:36.641833Z",
     "iopub.status.idle": "2024-06-30T10:24:36.645544Z",
     "shell.execute_reply": "2024-06-30T10:24:36.644804Z"
    },
    "papermill": {
     "duration": 0.021756,
     "end_time": "2024-06-30T10:24:36.647542",
     "exception": false,
     "start_time": "2024-06-30T10:24:36.625786",
     "status": "completed"
    },
    "tags": []
   },
   "outputs": [],
   "source": [
    "#create our test set\n",
    "#train_df, valid_df = train_test_split(df_train, test_size=0.2, stratify=df_train[\"score\"],random_state=42)"
   ]
  },
  {
   "cell_type": "code",
   "execution_count": 6,
   "id": "bb5d646e",
   "metadata": {
    "execution": {
     "iopub.execute_input": "2024-06-30T10:24:36.678859Z",
     "iopub.status.busy": "2024-06-30T10:24:36.678587Z",
     "iopub.status.idle": "2024-06-30T10:24:36.681937Z",
     "shell.execute_reply": "2024-06-30T10:24:36.681238Z"
    },
    "papermill": {
     "duration": 0.021063,
     "end_time": "2024-06-30T10:24:36.683784",
     "exception": false,
     "start_time": "2024-06-30T10:24:36.662721",
     "status": "completed"
    },
    "tags": []
   },
   "outputs": [],
   "source": [
    "#train_df.head()"
   ]
  },
  {
   "cell_type": "markdown",
   "id": "f652f0cf",
   "metadata": {
    "papermill": {
     "duration": 0.014823,
     "end_time": "2024-06-30T10:24:36.713524",
     "exception": false,
     "start_time": "2024-06-30T10:24:36.698701",
     "status": "completed"
    },
    "tags": []
   },
   "source": [
    "## 1.3 Explore the data"
   ]
  },
  {
   "cell_type": "markdown",
   "id": "b4fbef21",
   "metadata": {
    "papermill": {
     "duration": 0.014756,
     "end_time": "2024-06-30T10:24:36.743240",
     "exception": false,
     "start_time": "2024-06-30T10:24:36.728484",
     "status": "completed"
    },
    "tags": []
   },
   "source": [
    "What's the score distribution across the essays?"
   ]
  },
  {
   "cell_type": "code",
   "execution_count": 7,
   "id": "88cd0144",
   "metadata": {
    "execution": {
     "iopub.execute_input": "2024-06-30T10:24:36.774120Z",
     "iopub.status.busy": "2024-06-30T10:24:36.773843Z",
     "iopub.status.idle": "2024-06-30T10:24:36.777367Z",
     "shell.execute_reply": "2024-06-30T10:24:36.776622Z"
    },
    "papermill": {
     "duration": 0.021131,
     "end_time": "2024-06-30T10:24:36.779253",
     "exception": false,
     "start_time": "2024-06-30T10:24:36.758122",
     "status": "completed"
    },
    "tags": []
   },
   "outputs": [],
   "source": [
    "#visualize the score distribution across the essays\n",
    "#sns.countplot(data=train_df,x=\"score\",order=train_df[\"score\"].value_counts().index)"
   ]
  },
  {
   "cell_type": "markdown",
   "id": "df5ce57c",
   "metadata": {
    "papermill": {
     "duration": 0.015092,
     "end_time": "2024-06-30T10:24:36.810469",
     "exception": false,
     "start_time": "2024-06-30T10:24:36.795377",
     "status": "completed"
    },
    "tags": []
   },
   "source": [
    "Is there a correlation between score and essay length or number of words?"
   ]
  },
  {
   "cell_type": "markdown",
   "id": "53a04617",
   "metadata": {
    "papermill": {
     "duration": 0.015004,
     "end_time": "2024-06-30T10:24:36.840603",
     "exception": false,
     "start_time": "2024-06-30T10:24:36.825599",
     "status": "completed"
    },
    "tags": []
   },
   "source": [
    "There seems to be **no** relationship between the length of the essay and the score the student gets."
   ]
  },
  {
   "cell_type": "markdown",
   "id": "5cb8980e",
   "metadata": {
    "papermill": {
     "duration": 0.014881,
     "end_time": "2024-06-30T10:24:36.870357",
     "exception": false,
     "start_time": "2024-06-30T10:24:36.855476",
     "status": "completed"
    },
    "tags": []
   },
   "source": [
    "What's the distribution of tokens ?"
   ]
  },
  {
   "cell_type": "code",
   "execution_count": 8,
   "id": "3ceac260",
   "metadata": {
    "execution": {
     "iopub.execute_input": "2024-06-30T10:24:36.901644Z",
     "iopub.status.busy": "2024-06-30T10:24:36.901371Z",
     "iopub.status.idle": "2024-06-30T10:24:36.905207Z",
     "shell.execute_reply": "2024-06-30T10:24:36.904360Z"
    },
    "papermill": {
     "duration": 0.021644,
     "end_time": "2024-06-30T10:24:36.907045",
     "exception": false,
     "start_time": "2024-06-30T10:24:36.885401",
     "status": "completed"
    },
    "tags": []
   },
   "outputs": [],
   "source": [
    "#load the tokenizer\n",
    "#tokenizer = keras_nlp.models.DebertaV3Tokenizer.from_preset(\"deberta_v3_base_en\")\n"
   ]
  },
  {
   "cell_type": "code",
   "execution_count": 9,
   "id": "41703dbb",
   "metadata": {
    "execution": {
     "iopub.execute_input": "2024-06-30T10:24:36.938287Z",
     "iopub.status.busy": "2024-06-30T10:24:36.938005Z",
     "iopub.status.idle": "2024-06-30T10:24:36.941807Z",
     "shell.execute_reply": "2024-06-30T10:24:36.940964Z"
    },
    "papermill": {
     "duration": 0.021979,
     "end_time": "2024-06-30T10:24:36.944032",
     "exception": false,
     "start_time": "2024-06-30T10:24:36.922053",
     "status": "completed"
    },
    "tags": []
   },
   "outputs": [],
   "source": [
    "#compute token length of each essay across the dataset\n",
    "#train_df[\"number_of_tokens\"] = train_df[\"full_text\"].apply(lambda x:tokenizer(x).shape[0])\n",
    "\n",
    "#define a figure object of custom dimensions\n",
    "#plt.figure(figsize=(8,8),dpi=200)\n",
    "\n",
    "#plot the histogram\n",
    "#sns.displot(data=train_df,x=\"number_of_tokens\",kind=\"hist\",kde=True)"
   ]
  },
  {
   "cell_type": "code",
   "execution_count": 10,
   "id": "57c0f11e",
   "metadata": {
    "execution": {
     "iopub.execute_input": "2024-06-30T10:24:36.976027Z",
     "iopub.status.busy": "2024-06-30T10:24:36.975728Z",
     "iopub.status.idle": "2024-06-30T10:24:36.979319Z",
     "shell.execute_reply": "2024-06-30T10:24:36.978475Z"
    },
    "papermill": {
     "duration": 0.021613,
     "end_time": "2024-06-30T10:24:36.981116",
     "exception": false,
     "start_time": "2024-06-30T10:24:36.959503",
     "status": "completed"
    },
    "tags": []
   },
   "outputs": [],
   "source": [
    "#train_df[\"number_of_tokens\"].describe()"
   ]
  },
  {
   "cell_type": "code",
   "execution_count": 11,
   "id": "79d118dc",
   "metadata": {
    "execution": {
     "iopub.execute_input": "2024-06-30T10:24:37.012380Z",
     "iopub.status.busy": "2024-06-30T10:24:37.012028Z",
     "iopub.status.idle": "2024-06-30T10:24:37.015816Z",
     "shell.execute_reply": "2024-06-30T10:24:37.015022Z"
    },
    "papermill": {
     "duration": 0.021403,
     "end_time": "2024-06-30T10:24:37.017636",
     "exception": false,
     "start_time": "2024-06-30T10:24:36.996233",
     "status": "completed"
    },
    "tags": []
   },
   "outputs": [],
   "source": [
    "#compute the number of words per essays\n",
    "#train_df[\"essay_length\"] = train_df[\"full_text\"].apply(lambda x:len(x.split(\" \")))\n",
    "\n",
    "#plot the scatter plot\n",
    "\n",
    "#sns.scatterplot(data=train_df,x=\"score\",y=\"essay_length\")"
   ]
  },
  {
   "cell_type": "markdown",
   "id": "7681c43d",
   "metadata": {
    "papermill": {
     "duration": 0.014774,
     "end_time": "2024-06-30T10:24:37.047294",
     "exception": false,
     "start_time": "2024-06-30T10:24:37.032520",
     "status": "completed"
    },
    "tags": []
   },
   "source": [
    "# 2.Prepare the data"
   ]
  },
  {
   "cell_type": "markdown",
   "id": "3579a41e",
   "metadata": {
    "papermill": {
     "duration": 0.014838,
     "end_time": "2024-06-30T10:24:37.077873",
     "exception": false,
     "start_time": "2024-06-30T10:24:37.063035",
     "status": "completed"
    },
    "tags": []
   },
   "source": [
    "## Define some useful functions"
   ]
  },
  {
   "cell_type": "markdown",
   "id": "42afe601",
   "metadata": {
    "papermill": {
     "duration": 0.014947,
     "end_time": "2024-06-30T10:24:37.147242",
     "exception": false,
     "start_time": "2024-06-30T10:24:37.132295",
     "status": "completed"
    },
    "tags": []
   },
   "source": [
    "## Generate Embedding of the texts"
   ]
  },
  {
   "cell_type": "code",
   "execution_count": 12,
   "id": "f194fdb8",
   "metadata": {
    "execution": {
     "iopub.execute_input": "2024-06-30T10:24:37.179815Z",
     "iopub.status.busy": "2024-06-30T10:24:37.178844Z",
     "iopub.status.idle": "2024-06-30T10:24:37.212978Z",
     "shell.execute_reply": "2024-06-30T10:24:37.212226Z"
    },
    "papermill": {
     "duration": 0.052711,
     "end_time": "2024-06-30T10:24:37.215006",
     "exception": false,
     "start_time": "2024-06-30T10:24:37.162295",
     "status": "completed"
    },
    "tags": []
   },
   "outputs": [],
   "source": [
    "def embed(arr,model,num_of_gpus=torch.cuda.device_count(),batch_size=5):\n",
    "    if num_of_gpus >1:\n",
    "        #devices = [f\"cuda:{i}\" for i in range(num_of_gpus)]\n",
    "        pool = model.start_multi_process_pool()\n",
    "        print(\"start embedding...\")\n",
    "        t1 = time.time()\n",
    "        embeddings = model.encode_multi_process(arr,\n",
    "                                                pool=pool,\n",
    "                                                batch_size=batch_size\n",
    "                                               )\n",
    "        print(f\"Finished... took {(time.time() - t1) /60} min\")\n",
    "    else:\n",
    "    \n",
    "            print(\"start embedding...\")\n",
    "            embeddings = model.encode(arr,\n",
    "                                batch_size=batch_size,device=\"cuda\",\n",
    "                                show_progress_bar=True)\n",
    "            t1 = time.time()\n",
    "            print(f\"Finished... took {(time.time() - t1) /60} min\")\n",
    "\n",
    "    return embeddings\n",
    "    "
   ]
  },
  {
   "cell_type": "code",
   "execution_count": 13,
   "id": "c4e28620",
   "metadata": {
    "execution": {
     "iopub.execute_input": "2024-06-30T10:24:37.246017Z",
     "iopub.status.busy": "2024-06-30T10:24:37.245754Z",
     "iopub.status.idle": "2024-06-30T10:24:37.254578Z",
     "shell.execute_reply": "2024-06-30T10:24:37.253730Z"
    },
    "papermill": {
     "duration": 0.026414,
     "end_time": "2024-06-30T10:24:37.256368",
     "exception": false,
     "start_time": "2024-06-30T10:24:37.229954",
     "status": "completed"
    },
    "tags": []
   },
   "outputs": [],
   "source": [
    "embedding_models_list = [#'llmrails',\n",
    "                         'alibaba',\n",
    "                        \"mpnet\",\n",
    "                        #'uae',\n",
    "                        #'baai',#'intfloat',\n",
    "                        #\"all-mpnet-base-v2\",\n",
    "                        #'Alibaba-NLP/gte-large-en-v1.5'\n",
    "]\n",
    "basis = \"/kaggle/input/source-file-nb2/\"\n",
    "#basis = \"\"\n",
    "\n",
    "\n",
    "def generate_embeddings(df=df_train,embedding_models_list=embedding_models_list,num_of_gpus=torch.cuda.device_count()):\n",
    "    t1 = time.time()\n",
    "    arr = df[\"full_text\"].to_numpy()\n",
    "    model = SentenceTransformer(basis+embedding_models_list[0], trust_remote_code=True)\n",
    "    print(f\"Embedding using {embedding_models_list[0]} \")\n",
    "    final_embedding = embed(arr,model,num_of_gpus)\n",
    "    del model\n",
    "    \n",
    "     # Clear the cache\n",
    "    torch.cuda.empty_cache()\n",
    "    gc.collect()\n",
    "    for model_name in tqdm.tqdm(embedding_models_list[1:]):\n",
    "        print(f\"Embedding using {model_name} \")\n",
    "        try:\n",
    "            model = SentenceTransformer(basis+model_name, trust_remote_code=True)\n",
    "            embeddings = embed(arr,model,num_of_gpus)\n",
    "            del model\n",
    "            \n",
    "            # Clear the cache\n",
    "            torch.cuda.empty_cache()\n",
    "            gc.collect()\n",
    "            final_embedding = np.append(final_embedding,embeddings,axis=1)\n",
    "        except:\n",
    "            print(\"Execption\") \n",
    "    print(f\"Overall process Finished... took {(time.time() - t1) /60} min\")\n",
    "    return final_embedding\n",
    "\n",
    "#final_embedding = generate_embeddings()"
   ]
  },
  {
   "cell_type": "code",
   "execution_count": 14,
   "id": "7f815833",
   "metadata": {
    "execution": {
     "iopub.execute_input": "2024-06-30T10:24:37.287547Z",
     "iopub.status.busy": "2024-06-30T10:24:37.287060Z",
     "iopub.status.idle": "2024-06-30T10:24:54.962517Z",
     "shell.execute_reply": "2024-06-30T10:24:54.961401Z"
    },
    "papermill": {
     "duration": 17.694344,
     "end_time": "2024-06-30T10:24:54.965543",
     "exception": false,
     "start_time": "2024-06-30T10:24:37.271199",
     "status": "completed"
    },
    "tags": []
   },
   "outputs": [
    {
     "name": "stdout",
     "output_type": "stream",
     "text": [
      "Embedding using alibaba \n",
      "start embedding...\n"
     ]
    },
    {
     "data": {
      "application/vnd.jupyter.widget-view+json": {
       "model_id": "4b201c7c38424c2eb2ac7152a6de5eaf",
       "version_major": 2,
       "version_minor": 0
      },
      "text/plain": [
       "Batches:   0%|          | 0/1 [00:00<?, ?it/s]"
      ]
     },
     "metadata": {},
     "output_type": "display_data"
    },
    {
     "name": "stdout",
     "output_type": "stream",
     "text": [
      "Finished... took 1.9868214925130207e-08 min\n"
     ]
    },
    {
     "name": "stderr",
     "output_type": "stream",
     "text": [
      "  0%|          | 0/1 [00:00<?, ?it/s]"
     ]
    },
    {
     "name": "stdout",
     "output_type": "stream",
     "text": [
      "Embedding using mpnet \n",
      "start embedding...\n"
     ]
    },
    {
     "data": {
      "application/vnd.jupyter.widget-view+json": {
       "model_id": "637d475a8d7846b78be09f1538bd5ea9",
       "version_major": 2,
       "version_minor": 0
      },
      "text/plain": [
       "Batches:   0%|          | 0/1 [00:00<?, ?it/s]"
      ]
     },
     "metadata": {},
     "output_type": "display_data"
    },
    {
     "name": "stdout",
     "output_type": "stream",
     "text": [
      "Finished... took 1.5894571940104166e-08 min\n"
     ]
    },
    {
     "name": "stderr",
     "output_type": "stream",
     "text": [
      "100%|██████████| 1/1 [00:03<00:00,  3.61s/it]"
     ]
    },
    {
     "name": "stdout",
     "output_type": "stream",
     "text": [
      "Overall process Finished... took 0.2945047458012899 min\n"
     ]
    },
    {
     "name": "stderr",
     "output_type": "stream",
     "text": [
      "\n"
     ]
    }
   ],
   "source": [
    "test_embeddings = generate_embeddings(df_test,num_of_gpus=1)\n",
    "\n"
   ]
  },
  {
   "cell_type": "markdown",
   "id": "ac6ee498",
   "metadata": {
    "execution": {
     "iopub.execute_input": "2024-06-28T08:05:50.984653Z",
     "iopub.status.busy": "2024-06-28T08:05:50.984313Z",
     "iopub.status.idle": "2024-06-28T08:05:51.197225Z",
     "shell.execute_reply": "2024-06-28T08:05:51.196188Z",
     "shell.execute_reply.started": "2024-06-28T08:05:50.984623Z"
    },
    "papermill": {
     "duration": 0.016137,
     "end_time": "2024-06-30T10:24:54.998149",
     "exception": false,
     "start_time": "2024-06-30T10:24:54.982012",
     "status": "completed"
    },
    "tags": []
   },
   "source": [
    "import pickle\n",
    "with open(\"/kaggle/working/final_embedding.pkl\",\"wb\") as file:\n",
    "    pickle.dump(final_embedding,file)"
   ]
  },
  {
   "cell_type": "code",
   "execution_count": 15,
   "id": "2142620c",
   "metadata": {
    "execution": {
     "iopub.execute_input": "2024-06-30T10:24:55.031880Z",
     "iopub.status.busy": "2024-06-30T10:24:55.031587Z",
     "iopub.status.idle": "2024-06-30T10:24:56.057513Z",
     "shell.execute_reply": "2024-06-30T10:24:56.056490Z"
    },
    "papermill": {
     "duration": 1.045368,
     "end_time": "2024-06-30T10:24:56.059893",
     "exception": false,
     "start_time": "2024-06-30T10:24:55.014525",
     "status": "completed"
    },
    "tags": []
   },
   "outputs": [],
   "source": [
    "with open(\"/kaggle/input/good-embedding/final_embedding.pkl\",\"rb\") as file:\n",
    "    final_embedding =  pickle.load(file)"
   ]
  },
  {
   "cell_type": "code",
   "execution_count": null,
   "id": "2b08fca8",
   "metadata": {
    "papermill": {
     "duration": 0.016125,
     "end_time": "2024-06-30T10:24:56.092850",
     "exception": false,
     "start_time": "2024-06-30T10:24:56.076725",
     "status": "completed"
    },
    "tags": []
   },
   "outputs": [],
   "source": []
  },
  {
   "cell_type": "code",
   "execution_count": 16,
   "id": "1f0fe55c",
   "metadata": {
    "execution": {
     "iopub.execute_input": "2024-06-30T10:24:56.127902Z",
     "iopub.status.busy": "2024-06-30T10:24:56.127593Z",
     "iopub.status.idle": "2024-06-30T10:24:56.131454Z",
     "shell.execute_reply": "2024-06-30T10:24:56.130591Z"
    },
    "papermill": {
     "duration": 0.024457,
     "end_time": "2024-06-30T10:24:56.133479",
     "exception": false,
     "start_time": "2024-06-30T10:24:56.109022",
     "status": "completed"
    },
    "tags": []
   },
   "outputs": [],
   "source": [
    "#from numba import cuda \n",
    "#device = cuda.get_current_device()\n",
    "#device.reset()"
   ]
  },
  {
   "cell_type": "code",
   "execution_count": 17,
   "id": "0674c51b",
   "metadata": {
    "_kg_hide-input": false,
    "execution": {
     "iopub.execute_input": "2024-06-30T10:24:56.167871Z",
     "iopub.status.busy": "2024-06-30T10:24:56.167166Z",
     "iopub.status.idle": "2024-06-30T10:24:56.176025Z",
     "shell.execute_reply": "2024-06-30T10:24:56.175208Z"
    },
    "papermill": {
     "duration": 0.027685,
     "end_time": "2024-06-30T10:24:56.177931",
     "exception": false,
     "start_time": "2024-06-30T10:24:56.150246",
     "status": "completed"
    },
    "tags": []
   },
   "outputs": [],
   "source": [
    "def to_ordinal(y, num_classes=None, dtype=\"float32\"):\n",
    "    \"\"\"Converts a class vector (integers) to an ordinal regression matrix.\n",
    "\n",
    "    This utility encodes class vector to ordinal regression/classification\n",
    "    matrix where each sample is indicated by a row and rank of that sample is\n",
    "    indicated by number of ones in that row.\n",
    "\n",
    "    Args:\n",
    "        y: Array-like with class values to be converted into a matrix\n",
    "            (integers from 0 to `num_classes - 1`).\n",
    "        num_classes: Total number of classes. If `None`, this would be inferred\n",
    "            as `max(y) + 1`.\n",
    "        dtype: The data type expected by the input. Default: `'float32'`.\n",
    "\n",
    "    Returns:\n",
    "        An ordinal regression matrix representation of the input as a NumPy\n",
    "        array. The class axis is placed last.\n",
    "    \"\"\"\n",
    "    y = np.array(y, dtype=\"int\")\n",
    "    input_shape = y.shape\n",
    "\n",
    "    # Shrink the last dimension if the shape is (..., 1).\n",
    "    if input_shape and input_shape[-1] == 1 and len(input_shape) > 1:\n",
    "        input_shape = tuple(input_shape[:-1])\n",
    "\n",
    "    y = y.reshape(-1)\n",
    "    if not num_classes:\n",
    "        num_classes = np.max(y) + 1\n",
    "    n = y.shape[0]\n",
    "    range_values = np.arange(num_classes - 1)\n",
    "    range_values = np.tile(np.expand_dims(range_values, 0), [n, 1])\n",
    "    ordinal = np.zeros((n, num_classes - 1), dtype=dtype)\n",
    "    ordinal[range_values < np.expand_dims(y, -1)] = 1\n",
    "    output_shape = input_shape + (num_classes - 1,)\n",
    "    ordinal = np.reshape(ordinal, output_shape)\n",
    "    return ordinal"
   ]
  },
  {
   "cell_type": "code",
   "execution_count": 18,
   "id": "4f797573",
   "metadata": {
    "execution": {
     "iopub.execute_input": "2024-06-30T10:24:56.211645Z",
     "iopub.status.busy": "2024-06-30T10:24:56.211001Z",
     "iopub.status.idle": "2024-06-30T10:24:56.216428Z",
     "shell.execute_reply": "2024-06-30T10:24:56.215580Z"
    },
    "papermill": {
     "duration": 0.02438,
     "end_time": "2024-06-30T10:24:56.218486",
     "exception": false,
     "start_time": "2024-06-30T10:24:56.194106",
     "status": "completed"
    },
    "tags": []
   },
   "outputs": [
    {
     "name": "stdout",
     "output_type": "stream",
     "text": [
      "Xtrain shape: (17307, 1792)\n",
      "ytrain shape: (17307,)\n"
     ]
    }
   ],
   "source": [
    "#prepare the data\n",
    "from keras.utils import to_categorical\n",
    "#build the features and labels\n",
    "X = final_embedding\n",
    "#y = train_df[\"score\"].to_numpy() \n",
    "y = df_train[\"score\"].to_numpy()\n",
    "#y = to_categorical(y)[:,1:]\n",
    "\n",
    "print(f\"Xtrain shape: {X.shape}\")\n",
    "print(f\"ytrain shape: {y.shape}\")"
   ]
  },
  {
   "cell_type": "code",
   "execution_count": 19,
   "id": "6815473e",
   "metadata": {
    "execution": {
     "iopub.execute_input": "2024-06-30T10:24:56.252433Z",
     "iopub.status.busy": "2024-06-30T10:24:56.252119Z",
     "iopub.status.idle": "2024-06-30T10:24:56.307277Z",
     "shell.execute_reply": "2024-06-30T10:24:56.306464Z"
    },
    "papermill": {
     "duration": 0.074543,
     "end_time": "2024-06-30T10:24:56.309727",
     "exception": false,
     "start_time": "2024-06-30T10:24:56.235184",
     "status": "completed"
    },
    "tags": []
   },
   "outputs": [],
   "source": [
    "X,X_val,y,y_val = train_test_split(final_embedding,y, test_size=0.2,random_state=42,stratify=y)\n",
    "y_val = to_ordinal(y_val)\n",
    "y = to_ordinal(y)"
   ]
  },
  {
   "cell_type": "code",
   "execution_count": 20,
   "id": "0971eb9c",
   "metadata": {
    "execution": {
     "iopub.execute_input": "2024-06-30T10:24:56.344333Z",
     "iopub.status.busy": "2024-06-30T10:24:56.344007Z",
     "iopub.status.idle": "2024-06-30T10:24:56.355760Z",
     "shell.execute_reply": "2024-06-30T10:24:56.355053Z"
    },
    "papermill": {
     "duration": 0.030782,
     "end_time": "2024-06-30T10:24:56.357524",
     "exception": false,
     "start_time": "2024-06-30T10:24:56.326742",
     "status": "completed"
    },
    "tags": []
   },
   "outputs": [],
   "source": [
    "import math\n",
    "import matplotlib.pyplot as plt\n",
    "\n",
    "\n",
    "def get_lr_callback(batch_size=100, mode='cos', epochs=10, plot=False):\n",
    "    lr_start, lr_max, lr_min = 0.6e-5, 0.3e-5 * batch_size, 0.3e-5\n",
    "    lr_ramp_ep, lr_sus_ep, lr_decay = 2, 0, 0.75\n",
    "\n",
    "    def lrfn(epoch):  # Learning rate update function\n",
    "        if epoch < lr_ramp_ep: lr = (lr_max - lr_start) / lr_ramp_ep * epoch + lr_start\n",
    "        elif epoch < lr_ramp_ep + lr_sus_ep: lr = lr_max\n",
    "        elif mode == 'exp': lr = (lr_max - lr_min) * lr_decay**(epoch - lr_ramp_ep - lr_sus_ep) + lr_min\n",
    "        elif mode == 'step': lr = lr_max * lr_decay**((epoch - lr_ramp_ep - lr_sus_ep) // 2)\n",
    "        elif mode == 'cos':\n",
    "            decay_total_epochs, decay_epoch_index = epochs - lr_ramp_ep - lr_sus_ep + 3, epoch - lr_ramp_ep - lr_sus_ep\n",
    "            phase = math.pi * decay_epoch_index / decay_total_epochs\n",
    "            lr = (lr_max - lr_min) * 0.5 * (1 + math.cos(phase)) + lr_min\n",
    "        return lr\n",
    "\n",
    "    if plot:  # Plot lr curve if plot is True\n",
    "        plt.figure(figsize=(10, 5))\n",
    "        plt.plot(np.arange(epochs), [lrfn(epoch) for epoch in np.arange(epochs)], marker='o')\n",
    "        plt.xlabel('epoch'); plt.ylabel('lr')\n",
    "        plt.title('LR Scheduler')\n",
    "        plt.show()\n",
    "\n",
    "\n",
    "    return keras.callbacks.LearningRateScheduler(lrfn, verbose=False)  # Create lr callback\n",
    "\n",
    "lr_cb = get_lr_callback(10, plot=False)\n",
    "\n",
    "ckpt_cb = keras.callbacks.ModelCheckpoint(\n",
    "    \"best_model.weights.h5\",\n",
    "    monitor=\"val_weighted_kappa\",\n",
    "    save_best_only=True,\n",
    "    save_weights_only=True,\n",
    "    mode=\"max\",\n",
    ")\n",
    "\n",
    "#buuild the early stopping call back\n",
    "early_callback = keras.callbacks.EarlyStopping(\n",
    "    monitor='val_weighted_kappa',\n",
    "    min_delta=0,\n",
    "    patience=10,\n",
    "    verbose=1,\n",
    "    mode='max',\n",
    "    baseline=None,\n",
    "    restore_best_weights=True,\n",
    "    start_from_epoch=0\n",
    ")"
   ]
  },
  {
   "cell_type": "code",
   "execution_count": 21,
   "id": "c086347a",
   "metadata": {
    "execution": {
     "iopub.execute_input": "2024-06-30T10:24:56.391320Z",
     "iopub.status.busy": "2024-06-30T10:24:56.391018Z",
     "iopub.status.idle": "2024-06-30T10:24:56.407436Z",
     "shell.execute_reply": "2024-06-30T10:24:56.406633Z"
    },
    "papermill": {
     "duration": 0.035261,
     "end_time": "2024-06-30T10:24:56.409229",
     "exception": false,
     "start_time": "2024-06-30T10:24:56.373968",
     "status": "completed"
    },
    "tags": []
   },
   "outputs": [],
   "source": [
    "class WeightedKappa(keras.metrics.Metric):\n",
    "    def __init__(self, num_classes=6, epsilon=1e-6):\n",
    "        super().__init__(name=\"weighted_kappa\")\n",
    "        self.num_classes = num_classes\n",
    "        self.epsilon = epsilon\n",
    "\n",
    "        label_vec = keras.ops.arange(num_classes, dtype=keras.backend.floatx())\n",
    "        self.row_label_vec = keras.ops.reshape(label_vec, [1, num_classes])\n",
    "        self.col_label_vec = keras.ops.reshape(label_vec, [num_classes, 1])\n",
    "        col_mat = keras.ops.tile(self.col_label_vec, [1, num_classes])\n",
    "        row_mat = keras.ops.tile(self.row_label_vec, [num_classes, 1])\n",
    "        self.weight_mat = (col_mat - row_mat) ** 2\n",
    "\n",
    "        self.numerator = self.add_weight(name=\"numerator\", initializer=\"zeros\")\n",
    "        self.denominator = self.add_weight(name=\"denominator\", initializer=\"zeros\")\n",
    "        self.o_sum = self.add_weight(name = 'o_sum', initializer = 'zeros')\n",
    "        self.e_sum = self.add_weight(name = 'e_sum', initializer = 'zeros')\n",
    "\n",
    "    def update_state(self, y_true, y_pred, **args):\n",
    "        # revert ordinal regression labels to classification labels\n",
    "        p = keras.ops.sum(y_true, axis=-1) - 1\n",
    "        p = keras.ops.cast(p,dtype=\"int8\")\n",
    "        y_true = keras.ops.one_hot(p, 6, dtype=\"int8\")\n",
    "        y_pred = keras.ops.one_hot(\n",
    "            keras.ops.sum(keras.ops.cast(y_pred > 0.5, dtype=\"int8\"), axis=-1) - 1, 6\n",
    "        )\n",
    "        # weighted kappa calculation\n",
    "        y_true = keras.ops.cast(y_true, dtype=self.col_label_vec.dtype)\n",
    "        y_pred = keras.ops.cast(y_pred, dtype=self.weight_mat.dtype)\n",
    "        batch_size = keras.ops.shape(y_true)[0]\n",
    "\n",
    "        cat_labels = keras.ops.matmul(y_true, self.col_label_vec)\n",
    "        cat_label_mat = keras.ops.tile(cat_labels, [1, self.num_classes])\n",
    "        row_label_mat = keras.ops.tile(self.row_label_vec, [batch_size, 1])\n",
    "\n",
    "        weight = (cat_label_mat - row_label_mat) ** 2\n",
    "\n",
    "        self.numerator.assign_add(keras.ops.sum(weight * y_pred))\n",
    "        label_dist = keras.ops.sum(y_true, axis=0, keepdims=True)\n",
    "        pred_dist = keras.ops.sum(y_pred, axis=0, keepdims=True)\n",
    "        w_pred_dist = keras.ops.matmul(\n",
    "            self.weight_mat, keras.ops.transpose(pred_dist, [1, 0])\n",
    "        )\n",
    "        self.denominator.assign_add(\n",
    "            keras.ops.sum(keras.ops.matmul(label_dist, w_pred_dist))\n",
    "        )\n",
    "        \n",
    "        self.o_sum.assign_add(keras.ops.sum(y_pred))\n",
    "        self.e_sum.assign_add(keras.ops.sum(\n",
    "            keras.ops.matmul(keras.ops.transpose(label_dist, [1, 0]), pred_dist)\n",
    "        ))\n",
    "\n",
    "    def result(self):\n",
    "        return 1.0 - (\n",
    "            keras.ops.divide_no_nan(self.numerator, self.denominator)\n",
    "            * keras.ops.divide_no_nan(self.e_sum, self.o_sum)\n",
    "        )\n",
    "\n",
    "    def reset_state(self):\n",
    "        self.numerator.assign(0)\n",
    "        self.denominator.assign(0)\n",
    "        self.o_sum.assign(0)\n",
    "        self.e_sum.assign(0)"
   ]
  },
  {
   "cell_type": "markdown",
   "id": "17d77a1e",
   "metadata": {
    "papermill": {
     "duration": 0.016144,
     "end_time": "2024-06-30T10:24:56.441582",
     "exception": false,
     "start_time": "2024-06-30T10:24:56.425438",
     "status": "completed"
    },
    "tags": []
   },
   "source": [
    "# 3.Training"
   ]
  },
  {
   "cell_type": "code",
   "execution_count": 22,
   "id": "13e526f0",
   "metadata": {
    "execution": {
     "iopub.execute_input": "2024-06-30T10:24:56.474933Z",
     "iopub.status.busy": "2024-06-30T10:24:56.474664Z",
     "iopub.status.idle": "2024-06-30T10:24:56.743851Z",
     "shell.execute_reply": "2024-06-30T10:24:56.743116Z"
    },
    "papermill": {
     "duration": 0.288293,
     "end_time": "2024-06-30T10:24:56.746072",
     "exception": false,
     "start_time": "2024-06-30T10:24:56.457779",
     "status": "completed"
    },
    "tags": []
   },
   "outputs": [],
   "source": [
    "import keras_tuner"
   ]
  },
  {
   "cell_type": "code",
   "execution_count": 23,
   "id": "8e15743b",
   "metadata": {
    "execution": {
     "iopub.execute_input": "2024-06-30T10:24:56.780261Z",
     "iopub.status.busy": "2024-06-30T10:24:56.779945Z",
     "iopub.status.idle": "2024-06-30T10:24:58.560030Z",
     "shell.execute_reply": "2024-06-30T10:24:58.559102Z"
    },
    "papermill": {
     "duration": 1.799203,
     "end_time": "2024-06-30T10:24:58.561989",
     "exception": false,
     "start_time": "2024-06-30T10:24:56.762786",
     "status": "completed"
    },
    "tags": []
   },
   "outputs": [
    {
     "data": {
      "text/plain": [
       "<Sequential name=sequential, built=False>"
      ]
     },
     "execution_count": 23,
     "metadata": {},
     "output_type": "execute_result"
    }
   ],
   "source": [
    "from keras.models import Sequential\n",
    "from keras.layers import Dense, Dropout\n",
    "from keras.layers import BatchNormalization\n",
    "#build the DNN\n",
    "keras.utils.set_random_seed(101)\n",
    "def build_model(hp):\n",
    "\n",
    "    model = Sequential()\n",
    "    for i in range(hp.Int(\"num_layers\",1,10)):\n",
    "        model.add(\n",
    "            keras.layers.Dense(\n",
    "            units=hp.Int(f\"units_{i}\",min_value=32,max_value=2096,step=32),\n",
    "            activation=\"relu\",\n",
    "            )\n",
    "        )\n",
    "    if hp.Boolean(\"dropout\"):\n",
    "        model.add(keras.layers.Dropout(0.25))\n",
    "    if hp.Boolean(\"bacthnormalization\"):\n",
    "        model.add(keras.layers.BatchNormalization())\n",
    "    model.add(keras.layers.Dense(6,activation=\"sigmoid\"))\n",
    "    learning_rate = hp.Float(\"lr\", min_value=1e-4, max_value=1e-2, sampling=\"log\")\n",
    "    #compile the model\n",
    "\n",
    "    model.compile(\n",
    "        optimizer=keras.optimizers.Adam(learning_rate=learning_rate),\n",
    "        loss=keras.losses.BinaryCrossentropy(),\n",
    "        metrics=[WeightedKappa()],\n",
    "    )\n",
    "    return model\n",
    "\n",
    "\n",
    "#build the model\n",
    "\n",
    "build_model(keras_tuner.HyperParameters())\n",
    "\n"
   ]
  },
  {
   "cell_type": "code",
   "execution_count": 24,
   "id": "a4b6f1b5",
   "metadata": {
    "execution": {
     "iopub.execute_input": "2024-06-30T10:24:58.597383Z",
     "iopub.status.busy": "2024-06-30T10:24:58.597039Z",
     "iopub.status.idle": "2024-06-30T10:24:58.616917Z",
     "shell.execute_reply": "2024-06-30T10:24:58.616028Z"
    },
    "papermill": {
     "duration": 0.039398,
     "end_time": "2024-06-30T10:24:58.618863",
     "exception": false,
     "start_time": "2024-06-30T10:24:58.579465",
     "status": "completed"
    },
    "tags": []
   },
   "outputs": [],
   "source": [
    "tuner = keras_tuner.BayesianOptimization(\n",
    "    hypermodel=build_model,\n",
    "    objective=keras_tuner.Objective(\"val_weighted_kappa\", direction=\"max\"),\n",
    "    max_trials=5,\n",
    "    executions_per_trial=2,\n",
    "    overwrite=True,\n",
    "    directory=\"my_dir\",\n",
    "    project_name=\"helloworld\",\n",
    ")"
   ]
  },
  {
   "cell_type": "code",
   "execution_count": 25,
   "id": "f52b0233",
   "metadata": {
    "execution": {
     "iopub.execute_input": "2024-06-30T10:24:58.652652Z",
     "iopub.status.busy": "2024-06-30T10:24:58.652363Z",
     "iopub.status.idle": "2024-06-30T10:24:58.657395Z",
     "shell.execute_reply": "2024-06-30T10:24:58.656582Z"
    },
    "papermill": {
     "duration": 0.024177,
     "end_time": "2024-06-30T10:24:58.659374",
     "exception": false,
     "start_time": "2024-06-30T10:24:58.635197",
     "status": "completed"
    },
    "tags": []
   },
   "outputs": [
    {
     "name": "stdout",
     "output_type": "stream",
     "text": [
      "Search space summary\n",
      "Default search space size: 5\n",
      "num_layers (Int)\n",
      "{'default': None, 'conditions': [], 'min_value': 1, 'max_value': 10, 'step': 1, 'sampling': 'linear'}\n",
      "units_0 (Int)\n",
      "{'default': None, 'conditions': [], 'min_value': 32, 'max_value': 2096, 'step': 32, 'sampling': 'linear'}\n",
      "dropout (Boolean)\n",
      "{'default': False, 'conditions': []}\n",
      "bacthnormalization (Boolean)\n",
      "{'default': False, 'conditions': []}\n",
      "lr (Float)\n",
      "{'default': 0.0001, 'conditions': [], 'min_value': 0.0001, 'max_value': 0.01, 'step': None, 'sampling': 'log'}\n"
     ]
    }
   ],
   "source": [
    "tuner.search_space_summary()\n"
   ]
  },
  {
   "cell_type": "code",
   "execution_count": 26,
   "id": "f21c43bf",
   "metadata": {
    "execution": {
     "iopub.execute_input": "2024-06-30T10:24:58.693109Z",
     "iopub.status.busy": "2024-06-30T10:24:58.692842Z",
     "iopub.status.idle": "2024-06-30T10:41:55.970286Z",
     "shell.execute_reply": "2024-06-30T10:41:55.969275Z"
    },
    "papermill": {
     "duration": 1017.296793,
     "end_time": "2024-06-30T10:41:55.972499",
     "exception": false,
     "start_time": "2024-06-30T10:24:58.675706",
     "status": "completed"
    },
    "scrolled": true,
    "tags": []
   },
   "outputs": [
    {
     "name": "stdout",
     "output_type": "stream",
     "text": [
      "Trial 5 Complete [00h 03m 27s]\n",
      "val_weighted_kappa: 0.7590270042419434\n",
      "\n",
      "Best val_weighted_kappa So Far: 0.7648723423480988\n",
      "Total elapsed time: 00h 16m 57s\n"
     ]
    }
   ],
   "source": [
    "tuner.search(X, y, epochs=50, validation_data=(X_val, y_val))"
   ]
  },
  {
   "cell_type": "code",
   "execution_count": 27,
   "id": "6d021f22",
   "metadata": {
    "execution": {
     "iopub.execute_input": "2024-06-30T10:41:56.055909Z",
     "iopub.status.busy": "2024-06-30T10:41:56.055066Z",
     "iopub.status.idle": "2024-06-30T10:41:58.284684Z",
     "shell.execute_reply": "2024-06-30T10:41:58.283837Z"
    },
    "papermill": {
     "duration": 2.249401,
     "end_time": "2024-06-30T10:41:58.286652",
     "exception": false,
     "start_time": "2024-06-30T10:41:56.037251",
     "status": "completed"
    },
    "tags": []
   },
   "outputs": [
    {
     "name": "stderr",
     "output_type": "stream",
     "text": [
      "/opt/conda/lib/python3.10/site-packages/keras/src/saving/saving_lib.py:415: UserWarning: Skipping variable loading for optimizer 'adam', because it has 2 variables whereas the saved optimizer has 46 variables. \n",
      "  saveable.load_own_variables(weights_store.get(inner_path))\n",
      "/opt/conda/lib/python3.10/site-packages/keras/src/saving/saving_lib.py:415: UserWarning: Skipping variable loading for optimizer 'adam', because it has 2 variables whereas the saved optimizer has 30 variables. \n",
      "  saveable.load_own_variables(weights_store.get(inner_path))\n"
     ]
    },
    {
     "data": {
      "text/html": [
       "<pre style=\"white-space:pre;overflow-x:auto;line-height:normal;font-family:Menlo,'DejaVu Sans Mono',consolas,'Courier New',monospace\"><span style=\"font-weight: bold\">Model: \"sequential\"</span>\n",
       "</pre>\n"
      ],
      "text/plain": [
       "\u001b[1mModel: \"sequential\"\u001b[0m\n"
      ]
     },
     "metadata": {},
     "output_type": "display_data"
    },
    {
     "data": {
      "text/html": [
       "<pre style=\"white-space:pre;overflow-x:auto;line-height:normal;font-family:Menlo,'DejaVu Sans Mono',consolas,'Courier New',monospace\">┏━━━━━━━━━━━━━━━━━━━━━━━━━━━━━━━━━┳━━━━━━━━━━━━━━━━━━━━━━━━┳━━━━━━━━━━━━━━━┓\n",
       "┃<span style=\"font-weight: bold\"> Layer (type)                    </span>┃<span style=\"font-weight: bold\"> Output Shape           </span>┃<span style=\"font-weight: bold\">       Param # </span>┃\n",
       "┡━━━━━━━━━━━━━━━━━━━━━━━━━━━━━━━━━╇━━━━━━━━━━━━━━━━━━━━━━━━╇━━━━━━━━━━━━━━━┩\n",
       "│ dense (<span style=\"color: #0087ff; text-decoration-color: #0087ff\">Dense</span>)                   │ (<span style=\"color: #00d7ff; text-decoration-color: #00d7ff\">None</span>, <span style=\"color: #00af00; text-decoration-color: #00af00\">288</span>)            │       <span style=\"color: #00af00; text-decoration-color: #00af00\">516,384</span> │\n",
       "├─────────────────────────────────┼────────────────────────┼───────────────┤\n",
       "│ dense_1 (<span style=\"color: #0087ff; text-decoration-color: #0087ff\">Dense</span>)                 │ (<span style=\"color: #00d7ff; text-decoration-color: #00d7ff\">None</span>, <span style=\"color: #00af00; text-decoration-color: #00af00\">1504</span>)           │       <span style=\"color: #00af00; text-decoration-color: #00af00\">434,656</span> │\n",
       "├─────────────────────────────────┼────────────────────────┼───────────────┤\n",
       "│ dense_2 (<span style=\"color: #0087ff; text-decoration-color: #0087ff\">Dense</span>)                 │ (<span style=\"color: #00d7ff; text-decoration-color: #00d7ff\">None</span>, <span style=\"color: #00af00; text-decoration-color: #00af00\">320</span>)            │       <span style=\"color: #00af00; text-decoration-color: #00af00\">481,600</span> │\n",
       "├─────────────────────────────────┼────────────────────────┼───────────────┤\n",
       "│ dense_3 (<span style=\"color: #0087ff; text-decoration-color: #0087ff\">Dense</span>)                 │ (<span style=\"color: #00d7ff; text-decoration-color: #00d7ff\">None</span>, <span style=\"color: #00af00; text-decoration-color: #00af00\">1568</span>)           │       <span style=\"color: #00af00; text-decoration-color: #00af00\">503,328</span> │\n",
       "├─────────────────────────────────┼────────────────────────┼───────────────┤\n",
       "│ dense_4 (<span style=\"color: #0087ff; text-decoration-color: #0087ff\">Dense</span>)                 │ (<span style=\"color: #00d7ff; text-decoration-color: #00d7ff\">None</span>, <span style=\"color: #00af00; text-decoration-color: #00af00\">64</span>)             │       <span style=\"color: #00af00; text-decoration-color: #00af00\">100,416</span> │\n",
       "├─────────────────────────────────┼────────────────────────┼───────────────┤\n",
       "│ dense_5 (<span style=\"color: #0087ff; text-decoration-color: #0087ff\">Dense</span>)                 │ (<span style=\"color: #00d7ff; text-decoration-color: #00d7ff\">None</span>, <span style=\"color: #00af00; text-decoration-color: #00af00\">1696</span>)           │       <span style=\"color: #00af00; text-decoration-color: #00af00\">110,240</span> │\n",
       "├─────────────────────────────────┼────────────────────────┼───────────────┤\n",
       "│ dense_6 (<span style=\"color: #0087ff; text-decoration-color: #0087ff\">Dense</span>)                 │ (<span style=\"color: #00d7ff; text-decoration-color: #00d7ff\">None</span>, <span style=\"color: #00af00; text-decoration-color: #00af00\">1248</span>)           │     <span style=\"color: #00af00; text-decoration-color: #00af00\">2,117,856</span> │\n",
       "├─────────────────────────────────┼────────────────────────┼───────────────┤\n",
       "│ dense_7 (<span style=\"color: #0087ff; text-decoration-color: #0087ff\">Dense</span>)                 │ (<span style=\"color: #00d7ff; text-decoration-color: #00d7ff\">None</span>, <span style=\"color: #00af00; text-decoration-color: #00af00\">640</span>)            │       <span style=\"color: #00af00; text-decoration-color: #00af00\">799,360</span> │\n",
       "├─────────────────────────────────┼────────────────────────┼───────────────┤\n",
       "│ dense_8 (<span style=\"color: #0087ff; text-decoration-color: #0087ff\">Dense</span>)                 │ (<span style=\"color: #00d7ff; text-decoration-color: #00d7ff\">None</span>, <span style=\"color: #00af00; text-decoration-color: #00af00\">1920</span>)           │     <span style=\"color: #00af00; text-decoration-color: #00af00\">1,230,720</span> │\n",
       "├─────────────────────────────────┼────────────────────────┼───────────────┤\n",
       "│ dropout (<span style=\"color: #0087ff; text-decoration-color: #0087ff\">Dropout</span>)               │ (<span style=\"color: #00d7ff; text-decoration-color: #00d7ff\">None</span>, <span style=\"color: #00af00; text-decoration-color: #00af00\">1920</span>)           │             <span style=\"color: #00af00; text-decoration-color: #00af00\">0</span> │\n",
       "├─────────────────────────────────┼────────────────────────┼───────────────┤\n",
       "│ batch_normalization             │ (<span style=\"color: #00d7ff; text-decoration-color: #00d7ff\">None</span>, <span style=\"color: #00af00; text-decoration-color: #00af00\">1920</span>)           │         <span style=\"color: #00af00; text-decoration-color: #00af00\">7,680</span> │\n",
       "│ (<span style=\"color: #0087ff; text-decoration-color: #0087ff\">BatchNormalization</span>)            │                        │               │\n",
       "├─────────────────────────────────┼────────────────────────┼───────────────┤\n",
       "│ dense_9 (<span style=\"color: #0087ff; text-decoration-color: #0087ff\">Dense</span>)                 │ (<span style=\"color: #00d7ff; text-decoration-color: #00d7ff\">None</span>, <span style=\"color: #00af00; text-decoration-color: #00af00\">6</span>)              │        <span style=\"color: #00af00; text-decoration-color: #00af00\">11,526</span> │\n",
       "└─────────────────────────────────┴────────────────────────┴───────────────┘\n",
       "</pre>\n"
      ],
      "text/plain": [
       "┏━━━━━━━━━━━━━━━━━━━━━━━━━━━━━━━━━┳━━━━━━━━━━━━━━━━━━━━━━━━┳━━━━━━━━━━━━━━━┓\n",
       "┃\u001b[1m \u001b[0m\u001b[1mLayer (type)                   \u001b[0m\u001b[1m \u001b[0m┃\u001b[1m \u001b[0m\u001b[1mOutput Shape          \u001b[0m\u001b[1m \u001b[0m┃\u001b[1m \u001b[0m\u001b[1m      Param #\u001b[0m\u001b[1m \u001b[0m┃\n",
       "┡━━━━━━━━━━━━━━━━━━━━━━━━━━━━━━━━━╇━━━━━━━━━━━━━━━━━━━━━━━━╇━━━━━━━━━━━━━━━┩\n",
       "│ dense (\u001b[38;5;33mDense\u001b[0m)                   │ (\u001b[38;5;45mNone\u001b[0m, \u001b[38;5;34m288\u001b[0m)            │       \u001b[38;5;34m516,384\u001b[0m │\n",
       "├─────────────────────────────────┼────────────────────────┼───────────────┤\n",
       "│ dense_1 (\u001b[38;5;33mDense\u001b[0m)                 │ (\u001b[38;5;45mNone\u001b[0m, \u001b[38;5;34m1504\u001b[0m)           │       \u001b[38;5;34m434,656\u001b[0m │\n",
       "├─────────────────────────────────┼────────────────────────┼───────────────┤\n",
       "│ dense_2 (\u001b[38;5;33mDense\u001b[0m)                 │ (\u001b[38;5;45mNone\u001b[0m, \u001b[38;5;34m320\u001b[0m)            │       \u001b[38;5;34m481,600\u001b[0m │\n",
       "├─────────────────────────────────┼────────────────────────┼───────────────┤\n",
       "│ dense_3 (\u001b[38;5;33mDense\u001b[0m)                 │ (\u001b[38;5;45mNone\u001b[0m, \u001b[38;5;34m1568\u001b[0m)           │       \u001b[38;5;34m503,328\u001b[0m │\n",
       "├─────────────────────────────────┼────────────────────────┼───────────────┤\n",
       "│ dense_4 (\u001b[38;5;33mDense\u001b[0m)                 │ (\u001b[38;5;45mNone\u001b[0m, \u001b[38;5;34m64\u001b[0m)             │       \u001b[38;5;34m100,416\u001b[0m │\n",
       "├─────────────────────────────────┼────────────────────────┼───────────────┤\n",
       "│ dense_5 (\u001b[38;5;33mDense\u001b[0m)                 │ (\u001b[38;5;45mNone\u001b[0m, \u001b[38;5;34m1696\u001b[0m)           │       \u001b[38;5;34m110,240\u001b[0m │\n",
       "├─────────────────────────────────┼────────────────────────┼───────────────┤\n",
       "│ dense_6 (\u001b[38;5;33mDense\u001b[0m)                 │ (\u001b[38;5;45mNone\u001b[0m, \u001b[38;5;34m1248\u001b[0m)           │     \u001b[38;5;34m2,117,856\u001b[0m │\n",
       "├─────────────────────────────────┼────────────────────────┼───────────────┤\n",
       "│ dense_7 (\u001b[38;5;33mDense\u001b[0m)                 │ (\u001b[38;5;45mNone\u001b[0m, \u001b[38;5;34m640\u001b[0m)            │       \u001b[38;5;34m799,360\u001b[0m │\n",
       "├─────────────────────────────────┼────────────────────────┼───────────────┤\n",
       "│ dense_8 (\u001b[38;5;33mDense\u001b[0m)                 │ (\u001b[38;5;45mNone\u001b[0m, \u001b[38;5;34m1920\u001b[0m)           │     \u001b[38;5;34m1,230,720\u001b[0m │\n",
       "├─────────────────────────────────┼────────────────────────┼───────────────┤\n",
       "│ dropout (\u001b[38;5;33mDropout\u001b[0m)               │ (\u001b[38;5;45mNone\u001b[0m, \u001b[38;5;34m1920\u001b[0m)           │             \u001b[38;5;34m0\u001b[0m │\n",
       "├─────────────────────────────────┼────────────────────────┼───────────────┤\n",
       "│ batch_normalization             │ (\u001b[38;5;45mNone\u001b[0m, \u001b[38;5;34m1920\u001b[0m)           │         \u001b[38;5;34m7,680\u001b[0m │\n",
       "│ (\u001b[38;5;33mBatchNormalization\u001b[0m)            │                        │               │\n",
       "├─────────────────────────────────┼────────────────────────┼───────────────┤\n",
       "│ dense_9 (\u001b[38;5;33mDense\u001b[0m)                 │ (\u001b[38;5;45mNone\u001b[0m, \u001b[38;5;34m6\u001b[0m)              │        \u001b[38;5;34m11,526\u001b[0m │\n",
       "└─────────────────────────────────┴────────────────────────┴───────────────┘\n"
      ]
     },
     "metadata": {},
     "output_type": "display_data"
    },
    {
     "data": {
      "text/html": [
       "<pre style=\"white-space:pre;overflow-x:auto;line-height:normal;font-family:Menlo,'DejaVu Sans Mono',consolas,'Courier New',monospace\"><span style=\"font-weight: bold\"> Total params: </span><span style=\"color: #00af00; text-decoration-color: #00af00\">6,313,766</span> (24.09 MB)\n",
       "</pre>\n"
      ],
      "text/plain": [
       "\u001b[1m Total params: \u001b[0m\u001b[38;5;34m6,313,766\u001b[0m (24.09 MB)\n"
      ]
     },
     "metadata": {},
     "output_type": "display_data"
    },
    {
     "data": {
      "text/html": [
       "<pre style=\"white-space:pre;overflow-x:auto;line-height:normal;font-family:Menlo,'DejaVu Sans Mono',consolas,'Courier New',monospace\"><span style=\"font-weight: bold\"> Trainable params: </span><span style=\"color: #00af00; text-decoration-color: #00af00\">6,309,926</span> (24.07 MB)\n",
       "</pre>\n"
      ],
      "text/plain": [
       "\u001b[1m Trainable params: \u001b[0m\u001b[38;5;34m6,309,926\u001b[0m (24.07 MB)\n"
      ]
     },
     "metadata": {},
     "output_type": "display_data"
    },
    {
     "data": {
      "text/html": [
       "<pre style=\"white-space:pre;overflow-x:auto;line-height:normal;font-family:Menlo,'DejaVu Sans Mono',consolas,'Courier New',monospace\"><span style=\"font-weight: bold\"> Non-trainable params: </span><span style=\"color: #00af00; text-decoration-color: #00af00\">3,840</span> (15.00 KB)\n",
       "</pre>\n"
      ],
      "text/plain": [
       "\u001b[1m Non-trainable params: \u001b[0m\u001b[38;5;34m3,840\u001b[0m (15.00 KB)\n"
      ]
     },
     "metadata": {},
     "output_type": "display_data"
    }
   ],
   "source": [
    "models = tuner.get_best_models(num_models=2)\n",
    "best_model = models[0]\n",
    "best_model.summary()"
   ]
  },
  {
   "cell_type": "code",
   "execution_count": 28,
   "id": "8e32a5cd",
   "metadata": {
    "execution": {
     "iopub.execute_input": "2024-06-30T10:41:58.324797Z",
     "iopub.status.busy": "2024-06-30T10:41:58.324282Z",
     "iopub.status.idle": "2024-06-30T10:41:58.374673Z",
     "shell.execute_reply": "2024-06-30T10:41:58.373883Z"
    },
    "papermill": {
     "duration": 0.07217,
     "end_time": "2024-06-30T10:41:58.376920",
     "exception": false,
     "start_time": "2024-06-30T10:41:58.304750",
     "status": "completed"
    },
    "tags": []
   },
   "outputs": [],
   "source": [
    "x_all = np.concatenate((X, X_val))\n",
    "y_all = np.concatenate((y, y_val))"
   ]
  },
  {
   "cell_type": "code",
   "execution_count": 29,
   "id": "991d102e",
   "metadata": {
    "execution": {
     "iopub.execute_input": "2024-06-30T10:41:58.415426Z",
     "iopub.status.busy": "2024-06-30T10:41:58.415069Z",
     "iopub.status.idle": "2024-06-30T10:43:02.355715Z",
     "shell.execute_reply": "2024-06-30T10:43:02.354744Z"
    },
    "papermill": {
     "duration": 63.962744,
     "end_time": "2024-06-30T10:43:02.357739",
     "exception": false,
     "start_time": "2024-06-30T10:41:58.394995",
     "status": "completed"
    },
    "tags": []
   },
   "outputs": [
    {
     "name": "stdout",
     "output_type": "stream",
     "text": [
      "Epoch 1/20\n",
      "\u001b[1m 31/541\u001b[0m \u001b[32m━\u001b[0m\u001b[37m━━━━━━━━━━━━━━━━━━━\u001b[0m \u001b[1m2s\u001b[0m 5ms/step - loss: 0.5156 - weighted_kappa: -0.0092"
     ]
    },
    {
     "name": "stderr",
     "output_type": "stream",
     "text": [
      "W0000 00:00:1719744125.649460      83 graph_launch.cc:671] Fallback to op-by-op mode because memset node breaks graph update\n"
     ]
    },
    {
     "name": "stdout",
     "output_type": "stream",
     "text": [
      "\u001b[1m541/541\u001b[0m \u001b[32m━━━━━━━━━━━━━━━━━━━━\u001b[0m\u001b[37m\u001b[0m \u001b[1m22s\u001b[0m 29ms/step - loss: 0.3119 - weighted_kappa: 0.4078\n",
      "Epoch 2/20\n",
      "\u001b[1m 31/541\u001b[0m \u001b[32m━\u001b[0m\u001b[37m━━━━━━━━━━━━━━━━━━━\u001b[0m \u001b[1m2s\u001b[0m 5ms/step - loss: 0.2212 - weighted_kappa: 0.6223"
     ]
    },
    {
     "name": "stderr",
     "output_type": "stream",
     "text": [
      "W0000 00:00:1719744141.262307      85 graph_launch.cc:671] Fallback to op-by-op mode because memset node breaks graph update\n",
      "/opt/conda/lib/python3.10/site-packages/keras/src/callbacks/early_stopping.py:155: UserWarning: Early stopping conditioned on metric `val_weighted_kappa` which is not available. Available metrics are: loss,weighted_kappa\n",
      "  current = self.get_monitor_value(logs)\n"
     ]
    },
    {
     "name": "stdout",
     "output_type": "stream",
     "text": [
      "\u001b[1m541/541\u001b[0m \u001b[32m━━━━━━━━━━━━━━━━━━━━\u001b[0m\u001b[37m\u001b[0m \u001b[1m2s\u001b[0m 4ms/step - loss: 0.2105 - weighted_kappa: 0.6648\n",
      "Epoch 3/20\n",
      "\u001b[1m541/541\u001b[0m \u001b[32m━━━━━━━━━━━━━━━━━━━━\u001b[0m\u001b[37m\u001b[0m \u001b[1m2s\u001b[0m 4ms/step - loss: 0.1908 - weighted_kappa: 0.7057\n",
      "Epoch 4/20\n",
      "\u001b[1m541/541\u001b[0m \u001b[32m━━━━━━━━━━━━━━━━━━━━\u001b[0m\u001b[37m\u001b[0m \u001b[1m2s\u001b[0m 4ms/step - loss: 0.1816 - weighted_kappa: 0.7197\n",
      "Epoch 5/20\n",
      "\u001b[1m541/541\u001b[0m \u001b[32m━━━━━━━━━━━━━━━━━━━━\u001b[0m\u001b[37m\u001b[0m \u001b[1m2s\u001b[0m 4ms/step - loss: 0.1757 - weighted_kappa: 0.7343\n",
      "Epoch 6/20\n",
      "\u001b[1m541/541\u001b[0m \u001b[32m━━━━━━━━━━━━━━━━━━━━\u001b[0m\u001b[37m\u001b[0m \u001b[1m2s\u001b[0m 4ms/step - loss: 0.1725 - weighted_kappa: 0.7423\n",
      "Epoch 7/20\n",
      "\u001b[1m541/541\u001b[0m \u001b[32m━━━━━━━━━━━━━━━━━━━━\u001b[0m\u001b[37m\u001b[0m \u001b[1m2s\u001b[0m 4ms/step - loss: 0.1699 - weighted_kappa: 0.7474\n",
      "Epoch 8/20\n",
      "\u001b[1m541/541\u001b[0m \u001b[32m━━━━━━━━━━━━━━━━━━━━\u001b[0m\u001b[37m\u001b[0m \u001b[1m2s\u001b[0m 4ms/step - loss: 0.1667 - weighted_kappa: 0.7586\n",
      "Epoch 9/20\n",
      "\u001b[1m541/541\u001b[0m \u001b[32m━━━━━━━━━━━━━━━━━━━━\u001b[0m\u001b[37m\u001b[0m \u001b[1m2s\u001b[0m 4ms/step - loss: 0.1634 - weighted_kappa: 0.7648\n",
      "Epoch 10/20\n",
      "\u001b[1m541/541\u001b[0m \u001b[32m━━━━━━━━━━━━━━━━━━━━\u001b[0m\u001b[37m\u001b[0m \u001b[1m2s\u001b[0m 4ms/step - loss: 0.1615 - weighted_kappa: 0.7665\n",
      "Epoch 11/20\n",
      "\u001b[1m541/541\u001b[0m \u001b[32m━━━━━━━━━━━━━━━━━━━━\u001b[0m\u001b[37m\u001b[0m \u001b[1m2s\u001b[0m 4ms/step - loss: 0.1589 - weighted_kappa: 0.7731\n",
      "Epoch 12/20\n",
      "\u001b[1m541/541\u001b[0m \u001b[32m━━━━━━━━━━━━━━━━━━━━\u001b[0m\u001b[37m\u001b[0m \u001b[1m2s\u001b[0m 4ms/step - loss: 0.1578 - weighted_kappa: 0.7766\n",
      "Epoch 13/20\n",
      "\u001b[1m541/541\u001b[0m \u001b[32m━━━━━━━━━━━━━━━━━━━━\u001b[0m\u001b[37m\u001b[0m \u001b[1m2s\u001b[0m 4ms/step - loss: 0.1543 - weighted_kappa: 0.7873\n",
      "Epoch 14/20\n",
      "\u001b[1m541/541\u001b[0m \u001b[32m━━━━━━━━━━━━━━━━━━━━\u001b[0m\u001b[37m\u001b[0m \u001b[1m2s\u001b[0m 4ms/step - loss: 0.1515 - weighted_kappa: 0.7898\n",
      "Epoch 15/20\n",
      "\u001b[1m541/541\u001b[0m \u001b[32m━━━━━━━━━━━━━━━━━━━━\u001b[0m\u001b[37m\u001b[0m \u001b[1m2s\u001b[0m 4ms/step - loss: 0.1481 - weighted_kappa: 0.7977\n",
      "Epoch 16/20\n",
      "\u001b[1m541/541\u001b[0m \u001b[32m━━━━━━━━━━━━━━━━━━━━\u001b[0m\u001b[37m\u001b[0m \u001b[1m2s\u001b[0m 4ms/step - loss: 0.1459 - weighted_kappa: 0.8003\n",
      "Epoch 17/20\n",
      "\u001b[1m541/541\u001b[0m \u001b[32m━━━━━━━━━━━━━━━━━━━━\u001b[0m\u001b[37m\u001b[0m \u001b[1m2s\u001b[0m 4ms/step - loss: 0.1449 - weighted_kappa: 0.8050\n",
      "Epoch 18/20\n",
      "\u001b[1m541/541\u001b[0m \u001b[32m━━━━━━━━━━━━━━━━━━━━\u001b[0m\u001b[37m\u001b[0m \u001b[1m2s\u001b[0m 4ms/step - loss: 0.1422 - weighted_kappa: 0.8067\n",
      "Epoch 19/20\n",
      "\u001b[1m541/541\u001b[0m \u001b[32m━━━━━━━━━━━━━━━━━━━━\u001b[0m\u001b[37m\u001b[0m \u001b[1m2s\u001b[0m 4ms/step - loss: 0.1407 - weighted_kappa: 0.8123\n",
      "Epoch 20/20\n",
      "\u001b[1m541/541\u001b[0m \u001b[32m━━━━━━━━━━━━━━━━━━━━\u001b[0m\u001b[37m\u001b[0m \u001b[1m2s\u001b[0m 4ms/step - loss: 0.1375 - weighted_kappa: 0.8175\n"
     ]
    },
    {
     "data": {
      "text/plain": [
       "<keras.src.callbacks.history.History at 0x7e82f2809900>"
      ]
     },
     "execution_count": 29,
     "metadata": {},
     "output_type": "execute_result"
    }
   ],
   "source": [
    "best_hps = tuner.get_best_hyperparameters(5)\n",
    "# Build the model with the best hp.\n",
    "model = build_model(best_hps[0])\n",
    "# Fit with the entire dataset.\n",
    "\n",
    "model.fit(x=x_all, y=y_all, epochs=20,callbacks=[early_callback])"
   ]
  },
  {
   "cell_type": "markdown",
   "id": "f986d0b9",
   "metadata": {
    "execution": {
     "iopub.execute_input": "2024-06-30T09:55:28.680402Z",
     "iopub.status.busy": "2024-06-30T09:55:28.679521Z",
     "iopub.status.idle": "2024-06-30T09:55:28.728877Z",
     "shell.execute_reply": "2024-06-30T09:55:28.727755Z",
     "shell.execute_reply.started": "2024-06-30T09:55:28.680368Z"
    },
    "papermill": {
     "duration": 0.089248,
     "end_time": "2024-06-30T10:43:02.536580",
     "exception": false,
     "start_time": "2024-06-30T10:43:02.447332",
     "status": "completed"
    },
    "tags": []
   },
   "source": [
    "# summarize history for loss\n",
    "plt.plot(history.history['loss'])\n",
    "plt.plot(history.history['val_loss'])\n",
    "plt.title('model loss')\n",
    "plt.ylabel('loss')\n",
    "plt.xlabel('epoch')\n",
    "plt.legend(['train', 'test'], loc='upper left')\n",
    "plt.show()"
   ]
  },
  {
   "cell_type": "markdown",
   "id": "e150179a",
   "metadata": {
    "papermill": {
     "duration": 0.093236,
     "end_time": "2024-06-30T10:43:02.720561",
     "exception": false,
     "start_time": "2024-06-30T10:43:02.627325",
     "status": "completed"
    },
    "tags": []
   },
   "source": [
    "# Test the Model on the validation Set"
   ]
  },
  {
   "cell_type": "markdown",
   "id": "edf366bd",
   "metadata": {
    "execution": {
     "iopub.execute_input": "2024-06-28T08:38:21.769949Z",
     "iopub.status.busy": "2024-06-28T08:38:21.769672Z",
     "iopub.status.idle": "2024-06-28T08:38:21.782276Z",
     "shell.execute_reply": "2024-06-28T08:38:21.781415Z",
     "shell.execute_reply.started": "2024-06-28T08:38:21.769925Z"
    },
    "papermill": {
     "duration": 0.087457,
     "end_time": "2024-06-30T10:43:02.898085",
     "exception": false,
     "start_time": "2024-06-30T10:43:02.810628",
     "status": "completed"
    },
    "tags": []
   },
   "source": [
    "del X\n",
    "del X_val\n",
    "del y\n",
    "del y_val\n",
    "del final_embedding"
   ]
  },
  {
   "cell_type": "markdown",
   "id": "29fe8093",
   "metadata": {
    "execution": {
     "iopub.execute_input": "2024-06-28T08:46:28.506476Z",
     "iopub.status.busy": "2024-06-28T08:46:28.505567Z",
     "iopub.status.idle": "2024-06-28T08:46:29.236900Z",
     "shell.execute_reply": "2024-06-28T08:46:29.235919Z",
     "shell.execute_reply.started": "2024-06-28T08:46:28.506441Z"
    },
    "papermill": {
     "duration": 0.090215,
     "end_time": "2024-06-30T10:43:03.076356",
     "exception": false,
     "start_time": "2024-06-30T10:43:02.986141",
     "status": "completed"
    },
    "tags": []
   },
   "source": [
    "\n",
    "# Clear the cache\n",
    "torch.cuda.empty_cache()\n",
    "gc.collect()\n",
    "\n",
    "for obj in gc.get_objects():\n",
    "    try:\n",
    "        if torch.is_tensor(obj) and obj.is_cuda:\n",
    "            del obj\n",
    "    except Exception as e:\n",
    "        pass\n",
    "\n",
    "# Reset GPU memory stats\n",
    "torch.cuda.reset_max_memory_allocated()\n",
    "torch.cuda.reset_max_memory_cached()"
   ]
  },
  {
   "cell_type": "markdown",
   "id": "3e746889",
   "metadata": {
    "execution": {
     "iopub.execute_input": "2024-06-30T08:44:21.903957Z",
     "iopub.status.busy": "2024-06-30T08:44:21.903662Z",
     "iopub.status.idle": "2024-06-30T08:44:21.915712Z",
     "shell.execute_reply": "2024-06-30T08:44:21.914702Z",
     "shell.execute_reply.started": "2024-06-30T08:44:21.903932Z"
    },
    "papermill": {
     "duration": 0.08817,
     "end_time": "2024-06-30T10:43:03.252697",
     "exception": false,
     "start_time": "2024-06-30T10:43:03.164527",
     "status": "completed"
    },
    "tags": []
   },
   "source": [
    "from sklearn.metrics import cohen_kappa_score\n",
    "\n",
    "\n",
    "#find the right thresold \n",
    "def find_thresholds(true, pred, steps=50):\n",
    "\n",
    "    # SAVE TRIALS FOR PLOTTING\n",
    "    xs = [[],[],[],[],[]]\n",
    "    ys = [[],[],[],[],[]]\n",
    "\n",
    "    # COMPUTE BASELINE METRIC\n",
    "    threshold = [1.5, 2.5, 3.5, 4.5, 5.5]\n",
    "    pred2 = pd.cut(pred, [-np.inf] + threshold + [np.inf], \n",
    "                    labels=[1,2,3,4,5,6]).astype('int32')\n",
    "    best = cohen_kappa_score(true, pred2, weights=\"quadratic\")\n",
    "\n",
    "    # FIND FIVE OPTIMAL THRESHOLDS\n",
    "    for k in range(5):\n",
    "        for sign in [1,-1]:\n",
    "            v = threshold[k]\n",
    "            threshold2 = threshold.copy()\n",
    "            stop = 0\n",
    "            while stop<steps:\n",
    "\n",
    "                # TRY NEW THRESHOLD\n",
    "                v += sign * 0.001\n",
    "                threshold2[k] = v\n",
    "                pred2 = pd.cut(pred, [-np.inf] + threshold2 + [np.inf], \n",
    "                                labels=[1,2,3,4,5,6]).astype('int32')\n",
    "                metric = cohen_kappa_score(true, pred2, weights=\"quadratic\")\n",
    "\n",
    "                # SAVE TRIALS FOR PLOTTING\n",
    "                xs[k].append(v)\n",
    "                ys[k].append(metric)\n",
    "\n",
    "                # EARLY STOPPING\n",
    "                if metric<=best:\n",
    "                    stop += 1\n",
    "                else:\n",
    "                    stop = 0\n",
    "                    best = metric\n",
    "                    threshold = threshold2.copy()\n",
    "\n",
    "    # COMPUTE FINAL METRIC\n",
    "    pred2 = pd.cut(pred, [-np.inf] + threshold + [np.inf], \n",
    "                    labels=[1,2,3,4,5,6]).astype('int32')\n",
    "    best = cohen_kappa_score(true, pred2, weights=\"quadratic\")   \n",
    "\n",
    "    # RETURN RESULTS\n",
    "    threshold = [np.round(t,3) for t in threshold]\n",
    "    return best, threshold, xs, ys"
   ]
  },
  {
   "cell_type": "markdown",
   "id": "52f2ef82",
   "metadata": {
    "execution": {
     "iopub.execute_input": "2024-06-30T08:51:35.053515Z",
     "iopub.status.busy": "2024-06-30T08:51:35.053097Z",
     "iopub.status.idle": "2024-06-30T08:51:40.616847Z",
     "shell.execute_reply": "2024-06-30T08:51:40.615540Z",
     "shell.execute_reply.started": "2024-06-30T08:51:35.053487Z"
    },
    "papermill": {
     "duration": 0.08964,
     "end_time": "2024-06-30T10:43:03.433921",
     "exception": false,
     "start_time": "2024-06-30T10:43:03.344281",
     "status": "completed"
    },
    "tags": []
   },
   "source": [
    "y_pred = lgbm_classifier.predict(X_val)\n",
    "#y_true = valid_df[\"score\"].to_numpy()\n",
    "best, threshold, xs, ys = find_thresholds(y_val,y_pred.reshape(-1))\n",
    "\n",
    "#print(f\"Kappa score:{cohen_kappa_score(y_true,y_pred,weights='quadratic')}\")\n",
    "print(f\"Kappa score:{best}\")"
   ]
  },
  {
   "cell_type": "markdown",
   "id": "bb231820",
   "metadata": {
    "execution": {
     "iopub.execute_input": "2024-06-29T14:49:49.362500Z",
     "iopub.status.busy": "2024-06-29T14:49:49.362047Z",
     "iopub.status.idle": "2024-06-29T14:49:49.377982Z",
     "shell.execute_reply": "2024-06-29T14:49:49.376729Z",
     "shell.execute_reply.started": "2024-06-29T14:49:49.362459Z"
    },
    "papermill": {
     "duration": 0.09907,
     "end_time": "2024-06-30T10:43:03.628755",
     "exception": false,
     "start_time": "2024-06-30T10:43:03.529685",
     "status": "completed"
    },
    "tags": []
   },
   "source": [
    "def thresholding (output):\n",
    "    if output < threshold[0]:\n",
    "        return 1\n",
    "    elif output >= threshold[0] and output < threshold[1]:\n",
    "        return 2\n",
    "    elif output >= threshold[1] and output < threshold[2]:\n",
    "        return 3\n",
    "    elif output >= threshold[2] and output < threshold[3]:\n",
    "        return 4\n",
    "    elif output >= threshold[3] and output < threshold[4]:\n",
    "        return 5\n",
    "    else:\n",
    "        return 6\n"
   ]
  },
  {
   "cell_type": "markdown",
   "id": "320a4df1",
   "metadata": {
    "execution": {
     "iopub.execute_input": "2024-06-30T09:55:53.088435Z",
     "iopub.status.busy": "2024-06-30T09:55:53.087622Z",
     "iopub.status.idle": "2024-06-30T09:55:53.497606Z",
     "shell.execute_reply": "2024-06-30T09:55:53.496670Z",
     "shell.execute_reply.started": "2024-06-30T09:55:53.088406Z"
    },
    "papermill": {
     "duration": 0.091298,
     "end_time": "2024-06-30T10:43:03.813313",
     "exception": false,
     "start_time": "2024-06-30T10:43:03.722015",
     "status": "completed"
    },
    "tags": []
   },
   "source": [
    "output = model.predict(test_embeddings)\n",
    "print(output)\n",
    "results = list(map(thresholding,output))"
   ]
  },
  {
   "cell_type": "markdown",
   "id": "d6a34e5e",
   "metadata": {
    "execution": {
     "iopub.execute_input": "2024-06-29T14:50:07.570423Z",
     "iopub.status.busy": "2024-06-29T14:50:07.569788Z",
     "iopub.status.idle": "2024-06-29T14:50:07.582020Z",
     "shell.execute_reply": "2024-06-29T14:50:07.580851Z",
     "shell.execute_reply.started": "2024-06-29T14:50:07.570384Z"
    },
    "papermill": {
     "duration": 0.090958,
     "end_time": "2024-06-30T10:43:03.994910",
     "exception": false,
     "start_time": "2024-06-30T10:43:03.903952",
     "status": "completed"
    },
    "tags": []
   },
   "source": [
    "df_test[\"score\"] = output\n",
    "df_test"
   ]
  },
  {
   "cell_type": "markdown",
   "id": "07827418",
   "metadata": {
    "execution": {
     "iopub.execute_input": "2024-06-29T14:50:19.899277Z",
     "iopub.status.busy": "2024-06-29T14:50:19.898357Z",
     "iopub.status.idle": "2024-06-29T14:50:19.910354Z",
     "shell.execute_reply": "2024-06-29T14:50:19.909056Z",
     "shell.execute_reply.started": "2024-06-29T14:50:19.899239Z"
    },
    "papermill": {
     "duration": 0.090655,
     "end_time": "2024-06-30T10:43:04.175738",
     "exception": false,
     "start_time": "2024-06-30T10:43:04.085083",
     "status": "completed"
    },
    "tags": []
   },
   "source": [
    "df_test[[\"essay_id\",\"score\"]].to_csv(\"submission.csv\",index=False)"
   ]
  },
  {
   "cell_type": "code",
   "execution_count": 30,
   "id": "4e0934a9",
   "metadata": {
    "execution": {
     "iopub.execute_input": "2024-06-30T10:43:04.357044Z",
     "iopub.status.busy": "2024-06-30T10:43:04.356110Z",
     "iopub.status.idle": "2024-06-30T10:43:05.131477Z",
     "shell.execute_reply": "2024-06-30T10:43:05.130542Z"
    },
    "papermill": {
     "duration": 0.868582,
     "end_time": "2024-06-30T10:43:05.133728",
     "exception": false,
     "start_time": "2024-06-30T10:43:04.265146",
     "status": "completed"
    },
    "tags": []
   },
   "outputs": [
    {
     "name": "stdout",
     "output_type": "stream",
     "text": [
      "\u001b[1m1/1\u001b[0m \u001b[32m━━━━━━━━━━━━━━━━━━━━\u001b[0m\u001b[37m\u001b[0m \u001b[1m1s\u001b[0m 703ms/step\n"
     ]
    },
    {
     "data": {
      "text/html": [
       "<div>\n",
       "<style scoped>\n",
       "    .dataframe tbody tr th:only-of-type {\n",
       "        vertical-align: middle;\n",
       "    }\n",
       "\n",
       "    .dataframe tbody tr th {\n",
       "        vertical-align: top;\n",
       "    }\n",
       "\n",
       "    .dataframe thead th {\n",
       "        text-align: right;\n",
       "    }\n",
       "</style>\n",
       "<table border=\"1\" class=\"dataframe\">\n",
       "  <thead>\n",
       "    <tr style=\"text-align: right;\">\n",
       "      <th></th>\n",
       "      <th>essay_id</th>\n",
       "      <th>score</th>\n",
       "    </tr>\n",
       "  </thead>\n",
       "  <tbody>\n",
       "    <tr>\n",
       "      <th>0</th>\n",
       "      <td>000d118</td>\n",
       "      <td>3</td>\n",
       "    </tr>\n",
       "    <tr>\n",
       "      <th>1</th>\n",
       "      <td>000fe60</td>\n",
       "      <td>3</td>\n",
       "    </tr>\n",
       "    <tr>\n",
       "      <th>2</th>\n",
       "      <td>001ab80</td>\n",
       "      <td>4</td>\n",
       "    </tr>\n",
       "  </tbody>\n",
       "</table>\n",
       "</div>"
      ],
      "text/plain": [
       "  essay_id  score\n",
       "0  000d118      3\n",
       "1  000fe60      3\n",
       "2  001ab80      4"
      ]
     },
     "execution_count": 30,
     "metadata": {},
     "output_type": "execute_result"
    }
   ],
   "source": [
    "#test_embeddings = generate_embeddings(df_test,num_of_gpus=1)\n",
    "test_preds = model.predict(test_embeddings, verbose=1)\n",
    "\n",
    "# Convert probabilities to class labels\n",
    "test_preds = np.sum((test_preds>0.5).astype(int), axis=-1).clip(1, 6)\n",
    "\n",
    "# Create a DataFrame to store the submission\n",
    "sub_df = df_test[[\"essay_id\"]].copy()\n",
    "\n",
    "# Add the formatted predictions to the submission DataFrame\n",
    "sub_df[\"score\"] = test_preds\n",
    "\n",
    "# Save Submission\n",
    "sub_df.to_csv('submission.csv',index=False)\n",
    "\n",
    "# Display the first 2 rows of the submission DataFrame\n",
    "sub_df.head()"
   ]
  },
  {
   "cell_type": "markdown",
   "id": "b31abaf2",
   "metadata": {
    "papermill": {
     "duration": 0.086535,
     "end_time": "2024-06-30T10:43:05.313082",
     "exception": false,
     "start_time": "2024-06-30T10:43:05.226547",
     "status": "completed"
    },
    "tags": []
   },
   "source": [
    "y_pred = model2.predict(preprocessor(valid_df[\"full_text\"]))\n",
    "y_true = valid_df[\"score\"].to_numpy()\n",
    "best, threshold, xs, ys = find_thresholds(y_true,y_pred.reshape(-1))\n",
    "\n",
    "#print(f\"Kappa score:{cohen_kappa_score(y_true,y_pred,weights='quadratic')}\")\n",
    "print(f\"Kappa score:{best}\")"
   ]
  },
  {
   "cell_type": "markdown",
   "id": "0b3fc1c1",
   "metadata": {
    "papermill": {
     "duration": 0.087433,
     "end_time": "2024-06-30T10:43:05.487692",
     "exception": false,
     "start_time": "2024-06-30T10:43:05.400259",
     "status": "completed"
    },
    "tags": []
   },
   "source": [
    "def thresholding (output):\n",
    "    if output < threshold[0]:\n",
    "        return 1\n",
    "    elif output >= threshold[0] and output < threshold[1]:\n",
    "        return 2\n",
    "    elif output >= threshold[1] and output < threshold[2]:\n",
    "        return 3\n",
    "    elif output >= threshold[2] and output < threshold[3]:\n",
    "        return 4\n",
    "    elif output >= threshold[3] and output < threshold[4]:\n",
    "        return 5\n",
    "    else:\n",
    "        return 6"
   ]
  },
  {
   "cell_type": "markdown",
   "id": "02bb94a7",
   "metadata": {
    "papermill": {
     "duration": 0.087294,
     "end_time": "2024-06-30T10:43:05.663262",
     "exception": false,
     "start_time": "2024-06-30T10:43:05.575968",
     "status": "completed"
    },
    "tags": []
   },
   "source": [
    "df_test = pd.read_csv(f\"{BASE_PATH}{path}test.csv\")\n",
    "text = df_test[\"full_text\"].to_list()\n",
    "\n",
    "print(text)\n",
    "processed_text = preprocessor(text)\n",
    "print(processed_text)\n",
    "output = model2.predict(processed_text)\n",
    "print(output)\n",
    "results = list(map(thresholding,output))\n",
    "print(results)\n"
   ]
  },
  {
   "cell_type": "code",
   "execution_count": null,
   "id": "09caa126",
   "metadata": {
    "papermill": {
     "duration": 0.086669,
     "end_time": "2024-06-30T10:43:05.837833",
     "exception": false,
     "start_time": "2024-06-30T10:43:05.751164",
     "status": "completed"
    },
    "tags": []
   },
   "outputs": [],
   "source": []
  }
 ],
 "metadata": {
  "environment": {
   "kernel": "conda-base-py",
   "name": "workbench-notebooks.m121",
   "type": "gcloud",
   "uri": "us-docker.pkg.dev/deeplearning-platform-release/gcr.io/workbench-notebooks:m121"
  },
  "kaggle": {
   "accelerator": "nvidiaTeslaT4",
   "dataSources": [
    {
     "databundleVersionId": 8059942,
     "sourceId": 71485,
     "sourceType": "competition"
    },
    {
     "datasetId": 5057580,
     "sourceId": 8479751,
     "sourceType": "datasetVersion"
    },
    {
     "datasetId": 5071854,
     "sourceId": 8499173,
     "sourceType": "datasetVersion"
    },
    {
     "datasetId": 5135280,
     "sourceId": 8585882,
     "sourceType": "datasetVersion"
    },
    {
     "datasetId": 5296198,
     "sourceId": 8806031,
     "sourceType": "datasetVersion"
    },
    {
     "datasetId": 5297953,
     "sourceId": 8808585,
     "sourceType": "datasetVersion"
    },
    {
     "datasetId": 5298213,
     "sourceId": 8808927,
     "sourceType": "datasetVersion"
    },
    {
     "sourceId": 178748805,
     "sourceType": "kernelVersion"
    },
    {
     "modelInstanceId": 4686,
     "sourceId": 6065,
     "sourceType": "modelInstanceVersion"
    }
   ],
   "dockerImageVersionId": 30716,
   "isGpuEnabled": true,
   "isInternetEnabled": false,
   "language": "python",
   "sourceType": "notebook"
  },
  "kernelspec": {
   "display_name": "Python 3",
   "language": "python",
   "name": "python3"
  },
  "language_info": {
   "codemirror_mode": {
    "name": "ipython",
    "version": 3
   },
   "file_extension": ".py",
   "mimetype": "text/x-python",
   "name": "python",
   "nbconvert_exporter": "python",
   "pygments_lexer": "ipython3",
   "version": "3.10.13"
  },
  "papermill": {
   "default_parameters": {},
   "duration": 1153.902474,
   "end_time": "2024-06-30T10:43:09.087319",
   "environment_variables": {},
   "exception": null,
   "input_path": "__notebook__.ipynb",
   "output_path": "__notebook__.ipynb",
   "parameters": {},
   "start_time": "2024-06-30T10:23:55.184845",
   "version": "2.5.0"
  },
  "widgets": {
   "application/vnd.jupyter.widget-state+json": {
    "state": {
     "243d374fd0ad45c6965df2c75524ac4c": {
      "model_module": "@jupyter-widgets/controls",
      "model_module_version": "1.5.0",
      "model_name": "HTMLModel",
      "state": {
       "_dom_classes": [],
       "_model_module": "@jupyter-widgets/controls",
       "_model_module_version": "1.5.0",
       "_model_name": "HTMLModel",
       "_view_count": null,
       "_view_module": "@jupyter-widgets/controls",
       "_view_module_version": "1.5.0",
       "_view_name": "HTMLView",
       "description": "",
       "description_tooltip": null,
       "layout": "IPY_MODEL_6143cd0cff0642a3a5428d72ac69cc65",
       "placeholder": "​",
       "style": "IPY_MODEL_ce2f9818b6534667af1f85e15f04cc48",
       "value": " 1/1 [00:01&lt;00:00,  1.27s/it]"
      }
     },
     "26f2312683db491f9eb4d98074c6f360": {
      "model_module": "@jupyter-widgets/controls",
      "model_module_version": "1.5.0",
      "model_name": "ProgressStyleModel",
      "state": {
       "_model_module": "@jupyter-widgets/controls",
       "_model_module_version": "1.5.0",
       "_model_name": "ProgressStyleModel",
       "_view_count": null,
       "_view_module": "@jupyter-widgets/base",
       "_view_module_version": "1.2.0",
       "_view_name": "StyleView",
       "bar_color": null,
       "description_width": ""
      }
     },
     "285d4e493eb14ca79cccdc71d9367a06": {
      "model_module": "@jupyter-widgets/base",
      "model_module_version": "1.2.0",
      "model_name": "LayoutModel",
      "state": {
       "_model_module": "@jupyter-widgets/base",
       "_model_module_version": "1.2.0",
       "_model_name": "LayoutModel",
       "_view_count": null,
       "_view_module": "@jupyter-widgets/base",
       "_view_module_version": "1.2.0",
       "_view_name": "LayoutView",
       "align_content": null,
       "align_items": null,
       "align_self": null,
       "border": null,
       "bottom": null,
       "display": null,
       "flex": null,
       "flex_flow": null,
       "grid_area": null,
       "grid_auto_columns": null,
       "grid_auto_flow": null,
       "grid_auto_rows": null,
       "grid_column": null,
       "grid_gap": null,
       "grid_row": null,
       "grid_template_areas": null,
       "grid_template_columns": null,
       "grid_template_rows": null,
       "height": null,
       "justify_content": null,
       "justify_items": null,
       "left": null,
       "margin": null,
       "max_height": null,
       "max_width": null,
       "min_height": null,
       "min_width": null,
       "object_fit": null,
       "object_position": null,
       "order": null,
       "overflow": null,
       "overflow_x": null,
       "overflow_y": null,
       "padding": null,
       "right": null,
       "top": null,
       "visibility": null,
       "width": null
      }
     },
     "3dd7b8e03b7344c98e2c763e8369e301": {
      "model_module": "@jupyter-widgets/base",
      "model_module_version": "1.2.0",
      "model_name": "LayoutModel",
      "state": {
       "_model_module": "@jupyter-widgets/base",
       "_model_module_version": "1.2.0",
       "_model_name": "LayoutModel",
       "_view_count": null,
       "_view_module": "@jupyter-widgets/base",
       "_view_module_version": "1.2.0",
       "_view_name": "LayoutView",
       "align_content": null,
       "align_items": null,
       "align_self": null,
       "border": null,
       "bottom": null,
       "display": null,
       "flex": null,
       "flex_flow": null,
       "grid_area": null,
       "grid_auto_columns": null,
       "grid_auto_flow": null,
       "grid_auto_rows": null,
       "grid_column": null,
       "grid_gap": null,
       "grid_row": null,
       "grid_template_areas": null,
       "grid_template_columns": null,
       "grid_template_rows": null,
       "height": null,
       "justify_content": null,
       "justify_items": null,
       "left": null,
       "margin": null,
       "max_height": null,
       "max_width": null,
       "min_height": null,
       "min_width": null,
       "object_fit": null,
       "object_position": null,
       "order": null,
       "overflow": null,
       "overflow_x": null,
       "overflow_y": null,
       "padding": null,
       "right": null,
       "top": null,
       "visibility": null,
       "width": null
      }
     },
     "41c14da416234d1d8891f3012c29b2b5": {
      "model_module": "@jupyter-widgets/base",
      "model_module_version": "1.2.0",
      "model_name": "LayoutModel",
      "state": {
       "_model_module": "@jupyter-widgets/base",
       "_model_module_version": "1.2.0",
       "_model_name": "LayoutModel",
       "_view_count": null,
       "_view_module": "@jupyter-widgets/base",
       "_view_module_version": "1.2.0",
       "_view_name": "LayoutView",
       "align_content": null,
       "align_items": null,
       "align_self": null,
       "border": null,
       "bottom": null,
       "display": null,
       "flex": null,
       "flex_flow": null,
       "grid_area": null,
       "grid_auto_columns": null,
       "grid_auto_flow": null,
       "grid_auto_rows": null,
       "grid_column": null,
       "grid_gap": null,
       "grid_row": null,
       "grid_template_areas": null,
       "grid_template_columns": null,
       "grid_template_rows": null,
       "height": null,
       "justify_content": null,
       "justify_items": null,
       "left": null,
       "margin": null,
       "max_height": null,
       "max_width": null,
       "min_height": null,
       "min_width": null,
       "object_fit": null,
       "object_position": null,
       "order": null,
       "overflow": null,
       "overflow_x": null,
       "overflow_y": null,
       "padding": null,
       "right": null,
       "top": null,
       "visibility": null,
       "width": null
      }
     },
     "4b201c7c38424c2eb2ac7152a6de5eaf": {
      "model_module": "@jupyter-widgets/controls",
      "model_module_version": "1.5.0",
      "model_name": "HBoxModel",
      "state": {
       "_dom_classes": [],
       "_model_module": "@jupyter-widgets/controls",
       "_model_module_version": "1.5.0",
       "_model_name": "HBoxModel",
       "_view_count": null,
       "_view_module": "@jupyter-widgets/controls",
       "_view_module_version": "1.5.0",
       "_view_name": "HBoxView",
       "box_style": "",
       "children": [
        "IPY_MODEL_61e5666952074db183be4519752aae63",
        "IPY_MODEL_a9800352217947a1a158a70667f6f82d",
        "IPY_MODEL_243d374fd0ad45c6965df2c75524ac4c"
       ],
       "layout": "IPY_MODEL_41c14da416234d1d8891f3012c29b2b5"
      }
     },
     "504147f61c5e458bad31e92ffe03b1ff": {
      "model_module": "@jupyter-widgets/base",
      "model_module_version": "1.2.0",
      "model_name": "LayoutModel",
      "state": {
       "_model_module": "@jupyter-widgets/base",
       "_model_module_version": "1.2.0",
       "_model_name": "LayoutModel",
       "_view_count": null,
       "_view_module": "@jupyter-widgets/base",
       "_view_module_version": "1.2.0",
       "_view_name": "LayoutView",
       "align_content": null,
       "align_items": null,
       "align_self": null,
       "border": null,
       "bottom": null,
       "display": null,
       "flex": null,
       "flex_flow": null,
       "grid_area": null,
       "grid_auto_columns": null,
       "grid_auto_flow": null,
       "grid_auto_rows": null,
       "grid_column": null,
       "grid_gap": null,
       "grid_row": null,
       "grid_template_areas": null,
       "grid_template_columns": null,
       "grid_template_rows": null,
       "height": null,
       "justify_content": null,
       "justify_items": null,
       "left": null,
       "margin": null,
       "max_height": null,
       "max_width": null,
       "min_height": null,
       "min_width": null,
       "object_fit": null,
       "object_position": null,
       "order": null,
       "overflow": null,
       "overflow_x": null,
       "overflow_y": null,
       "padding": null,
       "right": null,
       "top": null,
       "visibility": null,
       "width": null
      }
     },
     "5f7a74ec38104371b2c5adcaa9c69a71": {
      "model_module": "@jupyter-widgets/base",
      "model_module_version": "1.2.0",
      "model_name": "LayoutModel",
      "state": {
       "_model_module": "@jupyter-widgets/base",
       "_model_module_version": "1.2.0",
       "_model_name": "LayoutModel",
       "_view_count": null,
       "_view_module": "@jupyter-widgets/base",
       "_view_module_version": "1.2.0",
       "_view_name": "LayoutView",
       "align_content": null,
       "align_items": null,
       "align_self": null,
       "border": null,
       "bottom": null,
       "display": null,
       "flex": null,
       "flex_flow": null,
       "grid_area": null,
       "grid_auto_columns": null,
       "grid_auto_flow": null,
       "grid_auto_rows": null,
       "grid_column": null,
       "grid_gap": null,
       "grid_row": null,
       "grid_template_areas": null,
       "grid_template_columns": null,
       "grid_template_rows": null,
       "height": null,
       "justify_content": null,
       "justify_items": null,
       "left": null,
       "margin": null,
       "max_height": null,
       "max_width": null,
       "min_height": null,
       "min_width": null,
       "object_fit": null,
       "object_position": null,
       "order": null,
       "overflow": null,
       "overflow_x": null,
       "overflow_y": null,
       "padding": null,
       "right": null,
       "top": null,
       "visibility": null,
       "width": null
      }
     },
     "6143cd0cff0642a3a5428d72ac69cc65": {
      "model_module": "@jupyter-widgets/base",
      "model_module_version": "1.2.0",
      "model_name": "LayoutModel",
      "state": {
       "_model_module": "@jupyter-widgets/base",
       "_model_module_version": "1.2.0",
       "_model_name": "LayoutModel",
       "_view_count": null,
       "_view_module": "@jupyter-widgets/base",
       "_view_module_version": "1.2.0",
       "_view_name": "LayoutView",
       "align_content": null,
       "align_items": null,
       "align_self": null,
       "border": null,
       "bottom": null,
       "display": null,
       "flex": null,
       "flex_flow": null,
       "grid_area": null,
       "grid_auto_columns": null,
       "grid_auto_flow": null,
       "grid_auto_rows": null,
       "grid_column": null,
       "grid_gap": null,
       "grid_row": null,
       "grid_template_areas": null,
       "grid_template_columns": null,
       "grid_template_rows": null,
       "height": null,
       "justify_content": null,
       "justify_items": null,
       "left": null,
       "margin": null,
       "max_height": null,
       "max_width": null,
       "min_height": null,
       "min_width": null,
       "object_fit": null,
       "object_position": null,
       "order": null,
       "overflow": null,
       "overflow_x": null,
       "overflow_y": null,
       "padding": null,
       "right": null,
       "top": null,
       "visibility": null,
       "width": null
      }
     },
     "61e5666952074db183be4519752aae63": {
      "model_module": "@jupyter-widgets/controls",
      "model_module_version": "1.5.0",
      "model_name": "HTMLModel",
      "state": {
       "_dom_classes": [],
       "_model_module": "@jupyter-widgets/controls",
       "_model_module_version": "1.5.0",
       "_model_name": "HTMLModel",
       "_view_count": null,
       "_view_module": "@jupyter-widgets/controls",
       "_view_module_version": "1.5.0",
       "_view_name": "HTMLView",
       "description": "",
       "description_tooltip": null,
       "layout": "IPY_MODEL_9515b762cbe248ab846dfbc445479c3e",
       "placeholder": "​",
       "style": "IPY_MODEL_6dc1e61c85b84f33b34eb7c5340030b0",
       "value": "Batches: 100%"
      }
     },
     "637d475a8d7846b78be09f1538bd5ea9": {
      "model_module": "@jupyter-widgets/controls",
      "model_module_version": "1.5.0",
      "model_name": "HBoxModel",
      "state": {
       "_dom_classes": [],
       "_model_module": "@jupyter-widgets/controls",
       "_model_module_version": "1.5.0",
       "_model_name": "HBoxModel",
       "_view_count": null,
       "_view_module": "@jupyter-widgets/controls",
       "_view_module_version": "1.5.0",
       "_view_name": "HBoxView",
       "box_style": "",
       "children": [
        "IPY_MODEL_deeb158a45734149a25c22f84f91a945",
        "IPY_MODEL_8137f248845d4230b8a58e8cc04f7f0a",
        "IPY_MODEL_9c8eb6c2e3f84ab8afa8b55728ab2405"
       ],
       "layout": "IPY_MODEL_5f7a74ec38104371b2c5adcaa9c69a71"
      }
     },
     "6dc1e61c85b84f33b34eb7c5340030b0": {
      "model_module": "@jupyter-widgets/controls",
      "model_module_version": "1.5.0",
      "model_name": "DescriptionStyleModel",
      "state": {
       "_model_module": "@jupyter-widgets/controls",
       "_model_module_version": "1.5.0",
       "_model_name": "DescriptionStyleModel",
       "_view_count": null,
       "_view_module": "@jupyter-widgets/base",
       "_view_module_version": "1.2.0",
       "_view_name": "StyleView",
       "description_width": ""
      }
     },
     "8137f248845d4230b8a58e8cc04f7f0a": {
      "model_module": "@jupyter-widgets/controls",
      "model_module_version": "1.5.0",
      "model_name": "FloatProgressModel",
      "state": {
       "_dom_classes": [],
       "_model_module": "@jupyter-widgets/controls",
       "_model_module_version": "1.5.0",
       "_model_name": "FloatProgressModel",
       "_view_count": null,
       "_view_module": "@jupyter-widgets/controls",
       "_view_module_version": "1.5.0",
       "_view_name": "ProgressView",
       "bar_style": "success",
       "description": "",
       "description_tooltip": null,
       "layout": "IPY_MODEL_504147f61c5e458bad31e92ffe03b1ff",
       "max": 1.0,
       "min": 0.0,
       "orientation": "horizontal",
       "style": "IPY_MODEL_26f2312683db491f9eb4d98074c6f360",
       "value": 1.0
      }
     },
     "9515b762cbe248ab846dfbc445479c3e": {
      "model_module": "@jupyter-widgets/base",
      "model_module_version": "1.2.0",
      "model_name": "LayoutModel",
      "state": {
       "_model_module": "@jupyter-widgets/base",
       "_model_module_version": "1.2.0",
       "_model_name": "LayoutModel",
       "_view_count": null,
       "_view_module": "@jupyter-widgets/base",
       "_view_module_version": "1.2.0",
       "_view_name": "LayoutView",
       "align_content": null,
       "align_items": null,
       "align_self": null,
       "border": null,
       "bottom": null,
       "display": null,
       "flex": null,
       "flex_flow": null,
       "grid_area": null,
       "grid_auto_columns": null,
       "grid_auto_flow": null,
       "grid_auto_rows": null,
       "grid_column": null,
       "grid_gap": null,
       "grid_row": null,
       "grid_template_areas": null,
       "grid_template_columns": null,
       "grid_template_rows": null,
       "height": null,
       "justify_content": null,
       "justify_items": null,
       "left": null,
       "margin": null,
       "max_height": null,
       "max_width": null,
       "min_height": null,
       "min_width": null,
       "object_fit": null,
       "object_position": null,
       "order": null,
       "overflow": null,
       "overflow_x": null,
       "overflow_y": null,
       "padding": null,
       "right": null,
       "top": null,
       "visibility": null,
       "width": null
      }
     },
     "9c8eb6c2e3f84ab8afa8b55728ab2405": {
      "model_module": "@jupyter-widgets/controls",
      "model_module_version": "1.5.0",
      "model_name": "HTMLModel",
      "state": {
       "_dom_classes": [],
       "_model_module": "@jupyter-widgets/controls",
       "_model_module_version": "1.5.0",
       "_model_name": "HTMLModel",
       "_view_count": null,
       "_view_module": "@jupyter-widgets/controls",
       "_view_module_version": "1.5.0",
       "_view_name": "HTMLView",
       "description": "",
       "description_tooltip": null,
       "layout": "IPY_MODEL_285d4e493eb14ca79cccdc71d9367a06",
       "placeholder": "​",
       "style": "IPY_MODEL_ae3118cf09434d30b9f353e619b46549",
       "value": " 1/1 [00:00&lt;00:00,  3.55it/s]"
      }
     },
     "a9800352217947a1a158a70667f6f82d": {
      "model_module": "@jupyter-widgets/controls",
      "model_module_version": "1.5.0",
      "model_name": "FloatProgressModel",
      "state": {
       "_dom_classes": [],
       "_model_module": "@jupyter-widgets/controls",
       "_model_module_version": "1.5.0",
       "_model_name": "FloatProgressModel",
       "_view_count": null,
       "_view_module": "@jupyter-widgets/controls",
       "_view_module_version": "1.5.0",
       "_view_name": "ProgressView",
       "bar_style": "success",
       "description": "",
       "description_tooltip": null,
       "layout": "IPY_MODEL_b9060833191e4950a7ad6f7b7d5fe149",
       "max": 1.0,
       "min": 0.0,
       "orientation": "horizontal",
       "style": "IPY_MODEL_d7dcb6f78b514746ad6d4916fe9eaf4e",
       "value": 1.0
      }
     },
     "ae3118cf09434d30b9f353e619b46549": {
      "model_module": "@jupyter-widgets/controls",
      "model_module_version": "1.5.0",
      "model_name": "DescriptionStyleModel",
      "state": {
       "_model_module": "@jupyter-widgets/controls",
       "_model_module_version": "1.5.0",
       "_model_name": "DescriptionStyleModel",
       "_view_count": null,
       "_view_module": "@jupyter-widgets/base",
       "_view_module_version": "1.2.0",
       "_view_name": "StyleView",
       "description_width": ""
      }
     },
     "b9060833191e4950a7ad6f7b7d5fe149": {
      "model_module": "@jupyter-widgets/base",
      "model_module_version": "1.2.0",
      "model_name": "LayoutModel",
      "state": {
       "_model_module": "@jupyter-widgets/base",
       "_model_module_version": "1.2.0",
       "_model_name": "LayoutModel",
       "_view_count": null,
       "_view_module": "@jupyter-widgets/base",
       "_view_module_version": "1.2.0",
       "_view_name": "LayoutView",
       "align_content": null,
       "align_items": null,
       "align_self": null,
       "border": null,
       "bottom": null,
       "display": null,
       "flex": null,
       "flex_flow": null,
       "grid_area": null,
       "grid_auto_columns": null,
       "grid_auto_flow": null,
       "grid_auto_rows": null,
       "grid_column": null,
       "grid_gap": null,
       "grid_row": null,
       "grid_template_areas": null,
       "grid_template_columns": null,
       "grid_template_rows": null,
       "height": null,
       "justify_content": null,
       "justify_items": null,
       "left": null,
       "margin": null,
       "max_height": null,
       "max_width": null,
       "min_height": null,
       "min_width": null,
       "object_fit": null,
       "object_position": null,
       "order": null,
       "overflow": null,
       "overflow_x": null,
       "overflow_y": null,
       "padding": null,
       "right": null,
       "top": null,
       "visibility": null,
       "width": null
      }
     },
     "ce2f9818b6534667af1f85e15f04cc48": {
      "model_module": "@jupyter-widgets/controls",
      "model_module_version": "1.5.0",
      "model_name": "DescriptionStyleModel",
      "state": {
       "_model_module": "@jupyter-widgets/controls",
       "_model_module_version": "1.5.0",
       "_model_name": "DescriptionStyleModel",
       "_view_count": null,
       "_view_module": "@jupyter-widgets/base",
       "_view_module_version": "1.2.0",
       "_view_name": "StyleView",
       "description_width": ""
      }
     },
     "d7dcb6f78b514746ad6d4916fe9eaf4e": {
      "model_module": "@jupyter-widgets/controls",
      "model_module_version": "1.5.0",
      "model_name": "ProgressStyleModel",
      "state": {
       "_model_module": "@jupyter-widgets/controls",
       "_model_module_version": "1.5.0",
       "_model_name": "ProgressStyleModel",
       "_view_count": null,
       "_view_module": "@jupyter-widgets/base",
       "_view_module_version": "1.2.0",
       "_view_name": "StyleView",
       "bar_color": null,
       "description_width": ""
      }
     },
     "deeb158a45734149a25c22f84f91a945": {
      "model_module": "@jupyter-widgets/controls",
      "model_module_version": "1.5.0",
      "model_name": "HTMLModel",
      "state": {
       "_dom_classes": [],
       "_model_module": "@jupyter-widgets/controls",
       "_model_module_version": "1.5.0",
       "_model_name": "HTMLModel",
       "_view_count": null,
       "_view_module": "@jupyter-widgets/controls",
       "_view_module_version": "1.5.0",
       "_view_name": "HTMLView",
       "description": "",
       "description_tooltip": null,
       "layout": "IPY_MODEL_3dd7b8e03b7344c98e2c763e8369e301",
       "placeholder": "​",
       "style": "IPY_MODEL_dfe05fa2e99747f7b865ea854d049f99",
       "value": "Batches: 100%"
      }
     },
     "dfe05fa2e99747f7b865ea854d049f99": {
      "model_module": "@jupyter-widgets/controls",
      "model_module_version": "1.5.0",
      "model_name": "DescriptionStyleModel",
      "state": {
       "_model_module": "@jupyter-widgets/controls",
       "_model_module_version": "1.5.0",
       "_model_name": "DescriptionStyleModel",
       "_view_count": null,
       "_view_module": "@jupyter-widgets/base",
       "_view_module_version": "1.2.0",
       "_view_name": "StyleView",
       "description_width": ""
      }
     }
    },
    "version_major": 2,
    "version_minor": 0
   }
  }
 },
 "nbformat": 4,
 "nbformat_minor": 5
}
